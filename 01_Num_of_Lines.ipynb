{
 "metadata": {
  "name": "",
  "signature": "sha256:7fafc4e5e97be5db3d311b03a3a8d282bc82dcad1630a0eb5b6d66ed26416ab3"
 },
 "nbformat": 3,
 "nbformat_minor": 0,
 "worksheets": [
  {
   "cells": [
    {
     "cell_type": "heading",
     "level": 1,
     "metadata": {},
     "source": [
      "Count the number of lines"
     ]
    },
    {
     "cell_type": "code",
     "collapsed": false,
     "input": [
      "FileName=\"C:\\Users\\Igor\\Documents\\GitHub\\IgorArambasicAmadeus\\FirstContact.ipynb\""
     ],
     "language": "python",
     "metadata": {},
     "outputs": [],
     "prompt_number": 1
    },
    {
     "cell_type": "code",
     "collapsed": false,
     "input": [
      "try:\n",
      "    file_input=open(FileName,\"r\")\n",
      "except IOError:\n",
      "    print \"Error! File %s did not open!\" %(FileName)"
     ],
     "language": "python",
     "metadata": {},
     "outputs": [],
     "prompt_number": 2
    },
    {
     "cell_type": "code",
     "collapsed": false,
     "input": [
      "k=0\n",
      "for line in file_input:\n",
      "    k+=1\n",
      "   # print line\n"
     ],
     "language": "python",
     "metadata": {},
     "outputs": [],
     "prompt_number": 3
    },
    {
     "cell_type": "code",
     "collapsed": false,
     "input": [
      "print \"%s has %s lines.\"%(FileName,k)"
     ],
     "language": "python",
     "metadata": {},
     "outputs": [
      {
       "output_type": "stream",
       "stream": "stdout",
       "text": [
        "C:\\Users\\Igor\\Documents\\GitHub\\IgorArambasicAmadeus\\FirstContact.ipynb has 84 lines.\n"
       ]
      }
     ],
     "prompt_number": 4
    },
    {
     "cell_type": "code",
     "collapsed": false,
     "input": [
      "file_input.close()"
     ],
     "language": "python",
     "metadata": {},
     "outputs": [],
     "prompt_number": 5
    },
    {
     "cell_type": "code",
     "collapsed": false,
     "input": [],
     "language": "python",
     "metadata": {},
     "outputs": []
    }
   ],
   "metadata": {}
  }
 ]
}