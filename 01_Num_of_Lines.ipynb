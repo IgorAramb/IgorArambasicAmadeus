{
 "metadata": {
  "name": "",
  "signature": "sha256:fc1335cdb9d1744c98ddaeee9245b056e87f894be3cf55cec847d376be51d962"
 },
 "nbformat": 3,
 "nbformat_minor": 0,
 "worksheets": [
  {
   "cells": [
    {
     "cell_type": "heading",
     "level": 1,
     "metadata": {},
     "source": [
      "Count the number of lines"
     ]
    },
    {
     "cell_type": "code",
     "collapsed": false,
     "input": [
      "FileName=\"C:\\Users\\Igor\\Documents\\GitHub\\IgorArambasicAmadeus\\FirstContact.ipynb\""
     ],
     "language": "python",
     "metadata": {},
     "outputs": [],
     "prompt_number": 1
    },
    {
     "cell_type": "code",
     "collapsed": false,
     "input": [
      "try:\n",
      "    with open(FileName, \"r\") as  file_input:\n",
      "        k=0\n",
      "        for line in file_input:\n",
      "            k+=1\n",
      "        print \"%s has %s lines.\"%(FileName,k)\n",
      "except IOError:\n",
      "    print \"Error! File %s did not open!\" %(FileName)"
     ],
     "language": "python",
     "metadata": {},
     "outputs": [
      {
       "output_type": "stream",
       "stream": "stdout",
       "text": [
        "C:\\Users\\Igor\\Documents\\GitHub\\IgorArambasicAmadeus\\FirstContact.ipynb has 84 lines.\n"
       ]
      }
     ],
     "prompt_number": 2
    },
    {
     "cell_type": "code",
     "collapsed": false,
     "input": [],
     "language": "python",
     "metadata": {},
     "outputs": []
    }
   ],
   "metadata": {}
  }
 ]
}