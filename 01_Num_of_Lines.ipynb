{
 "metadata": {
  "name": "",
  "signature": "sha256:3ca334bac37cefa2004dc09ce4daf2f1e64cd46ac23b61e8bbb3f5bd045698cd"
 },
 "nbformat": 3,
 "nbformat_minor": 0,
 "worksheets": [
  {
   "cells": [
    {
     "cell_type": "heading",
     "level": 1,
     "metadata": {},
     "source": [
      "Count the number of lines"
     ]
    },
    {
     "cell_type": "code",
     "collapsed": false,
     "input": [
      "file_input=open(\"Test.txt\",\"r\")\n",
      "print file_input.read()"
     ],
     "language": "python",
     "metadata": {},
     "outputs": [
      {
       "output_type": "stream",
       "stream": "stdout",
       "text": [
        "Hello\n",
        "This is line 2\n",
        "We end @ 3\n"
       ]
      }
     ],
     "prompt_number": 2
    },
    {
     "cell_type": "code",
     "collapsed": false,
     "input": [
      "file_input.close()"
     ],
     "language": "python",
     "metadata": {},
     "outputs": [],
     "prompt_number": 5
    },
    {
     "cell_type": "code",
     "collapsed": false,
     "input": [],
     "language": "python",
     "metadata": {},
     "outputs": []
    }
   ],
   "metadata": {}
  }
 ]
}