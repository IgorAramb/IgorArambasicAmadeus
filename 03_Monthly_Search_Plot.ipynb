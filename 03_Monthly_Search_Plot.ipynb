{
 "metadata": {
  "name": "",
  "signature": "sha256:f12a0ac18c507a175ef0e8d63cbd988ec874b194ea1bbb4c5283bc579d68eb5b"
 },
 "nbformat": 3,
 "nbformat_minor": 0,
 "worksheets": [
  {
   "cells": [
    {
     "cell_type": "code",
     "collapsed": false,
     "input": [
      "import pandas as pd\n",
      "import numpy as np\n",
      "\n",
      "BookFile='../Data/bookings.csv'\n",
      "SearchFile='../Data/searches.csv'"
     ],
     "language": "python",
     "metadata": {},
     "outputs": [],
     "prompt_number": 1
    },
    {
     "cell_type": "code",
     "collapsed": false,
     "input": [
      "ReaderBookings = pd.read_csv(SearchFile, sep='^', iterator=True)\n",
      "X=ReaderBookings.get_chunk(5)\n",
      "X.info()\n"
     ],
     "language": "python",
     "metadata": {},
     "outputs": [
      {
       "output_type": "stream",
       "stream": "stdout",
       "text": [
        "<class 'pandas.core.frame.DataFrame'>\n",
        "Int64Index: 5 entries, 0 to 4\n",
        "Data columns (total 45 columns):\n",
        "Date                 5 non-null object\n",
        "Time                 5 non-null object\n",
        "TxnCode              5 non-null object\n",
        "OfficeID             5 non-null object\n",
        "Country              5 non-null object\n",
        "Origin               5 non-null object\n",
        "Destination          5 non-null object\n",
        "RoundTrip            5 non-null int64\n",
        "NbSegments           5 non-null int64\n",
        "Seg1Departure        5 non-null object\n",
        "Seg1Arrival          5 non-null object\n",
        "Seg1Date             5 non-null object\n",
        "Seg1Carrier          2 non-null object\n",
        "Seg1BookingCode      1 non-null object\n",
        "Seg2Departure        3 non-null object\n",
        "Seg2Arrival          3 non-null object\n",
        "Seg2Date             3 non-null object\n",
        "Seg2Carrier          1 non-null object\n",
        "Seg2BookingCode      0 non-null float64\n",
        "Seg3Departure        0 non-null float64\n",
        "Seg3Arrival          0 non-null float64\n",
        "Seg3Date             0 non-null float64\n",
        "Seg3Carrier          0 non-null float64\n",
        "Seg3BookingCode      0 non-null float64\n",
        "Seg4Departure        0 non-null float64\n",
        "Seg4Arrival          0 non-null float64\n",
        "Seg4Date             0 non-null float64\n",
        "Seg4Carrier          0 non-null float64\n",
        "Seg4BookingCode      0 non-null float64\n",
        "Seg5Departure        0 non-null float64\n",
        "Seg5Arrival          0 non-null float64\n",
        "Seg5Date             0 non-null float64\n",
        "Seg5Carrier          0 non-null float64\n",
        "Seg5BookingCode      0 non-null float64\n",
        "Seg6Departure        0 non-null float64\n",
        "Seg6Arrival          0 non-null float64\n",
        "Seg6Date             0 non-null float64\n",
        "Seg6Carrier          0 non-null float64\n",
        "Seg6BookingCode      0 non-null float64\n",
        "From                 5 non-null object\n",
        "IsPublishedForNeg    5 non-null int64\n",
        "IsFromInternet       5 non-null int64\n",
        "IsFromVista          5 non-null int64\n",
        "TerminalID           5 non-null object\n",
        "InternetOffice       5 non-null object\n",
        "dtypes: float64(21), int64(5), object(19)"
       ]
      }
     ],
     "prompt_number": 2
    },
    {
     "cell_type": "code",
     "collapsed": false,
     "input": [
      "X.columns"
     ],
     "language": "python",
     "metadata": {},
     "outputs": [
      {
       "metadata": {},
       "output_type": "pyout",
       "prompt_number": 3,
       "text": [
        "Index([u'Date', u'Time', u'TxnCode', u'OfficeID', u'Country', u'Origin', u'Destination', u'RoundTrip', u'NbSegments', u'Seg1Departure', u'Seg1Arrival', u'Seg1Date', u'Seg1Carrier', u'Seg1BookingCode', u'Seg2Departure', u'Seg2Arrival', u'Seg2Date', u'Seg2Carrier', u'Seg2BookingCode', u'Seg3Departure', u'Seg3Arrival', u'Seg3Date', u'Seg3Carrier', u'Seg3BookingCode', u'Seg4Departure', u'Seg4Arrival', u'Seg4Date', u'Seg4Carrier', u'Seg4BookingCode', u'Seg5Departure', u'Seg5Arrival', u'Seg5Date', u'Seg5Carrier', u'Seg5BookingCode', u'Seg6Departure', u'Seg6Arrival', u'Seg6Date', u'Seg6Carrier', u'Seg6BookingCode', u'From', u'IsPublishedForNeg', u'IsFromInternet', u'IsFromVista', u'TerminalID', u'InternetOffice'], dtype='object')"
       ]
      }
     ],
     "prompt_number": 3
    },
    {
     "cell_type": "code",
     "collapsed": false,
     "input": [
      "SearchAll = pd.read_csv(SearchFile, sep='^', usecols=['Date','Destination'])\n",
      "SearchAll[:10]"
     ],
     "language": "python",
     "metadata": {},
     "outputs": [
      {
       "html": [
        "<div style=\"max-height:1000px;max-width:1500px;overflow:auto;\">\n",
        "<table border=\"1\" class=\"dataframe\">\n",
        "  <thead>\n",
        "    <tr style=\"text-align: right;\">\n",
        "      <th></th>\n",
        "      <th>Date</th>\n",
        "      <th>Destination</th>\n",
        "    </tr>\n",
        "  </thead>\n",
        "  <tbody>\n",
        "    <tr>\n",
        "      <th>0</th>\n",
        "      <td> 2013-01-01</td>\n",
        "      <td> AUH</td>\n",
        "    </tr>\n",
        "    <tr>\n",
        "      <th>1</th>\n",
        "      <td> 2013-01-01</td>\n",
        "      <td> MIL</td>\n",
        "    </tr>\n",
        "    <tr>\n",
        "      <th>2</th>\n",
        "      <td> 2013-01-01</td>\n",
        "      <td> SFO</td>\n",
        "    </tr>\n",
        "    <tr>\n",
        "      <th>3</th>\n",
        "      <td> 2013-01-01</td>\n",
        "      <td> ARN</td>\n",
        "    </tr>\n",
        "    <tr>\n",
        "      <th>4</th>\n",
        "      <td> 2013-01-01</td>\n",
        "      <td> MAD</td>\n",
        "    </tr>\n",
        "    <tr>\n",
        "      <th>5</th>\n",
        "      <td> 2013-01-01</td>\n",
        "      <td> BLR</td>\n",
        "    </tr>\n",
        "    <tr>\n",
        "      <th>6</th>\n",
        "      <td> 2013-01-01</td>\n",
        "      <td> PAR</td>\n",
        "    </tr>\n",
        "    <tr>\n",
        "      <th>7</th>\n",
        "      <td> 2013-01-01</td>\n",
        "      <td> DUB</td>\n",
        "    </tr>\n",
        "    <tr>\n",
        "      <th>8</th>\n",
        "      <td> 2013-01-01</td>\n",
        "      <td> ACE</td>\n",
        "    </tr>\n",
        "    <tr>\n",
        "      <th>9</th>\n",
        "      <td> 2013-01-01</td>\n",
        "      <td> BGW</td>\n",
        "    </tr>\n",
        "  </tbody>\n",
        "</table>\n",
        "<p>10 rows \u00d7 2 columns</p>\n",
        "</div>"
       ],
       "metadata": {},
       "output_type": "pyout",
       "prompt_number": 6,
       "text": [
        "         Date Destination\n",
        "0  2013-01-01         AUH\n",
        "1  2013-01-01         MIL\n",
        "2  2013-01-01         SFO\n",
        "3  2013-01-01         ARN\n",
        "4  2013-01-01         MAD\n",
        "5  2013-01-01         BLR\n",
        "6  2013-01-01         PAR\n",
        "7  2013-01-01         DUB\n",
        "8  2013-01-01         ACE\n",
        "9  2013-01-01         BGW\n",
        "\n",
        "[10 rows x 2 columns]"
       ]
      }
     ],
     "prompt_number": 6
    },
    {
     "cell_type": "code",
     "collapsed": false,
     "input": [],
     "language": "python",
     "metadata": {},
     "outputs": []
    }
   ],
   "metadata": {}
  }
 ]
}