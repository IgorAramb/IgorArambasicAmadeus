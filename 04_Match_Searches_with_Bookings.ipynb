{
 "metadata": {
  "name": "",
  "signature": "sha256:e1afcda4abbdb85ada6030795a740d606231f262b670e18c823d5480e287e28b"
 },
 "nbformat": 3,
 "nbformat_minor": 0,
 "worksheets": [
  {
   "cells": [
    {
     "cell_type": "code",
     "collapsed": false,
     "input": [
      "import pandas as pd\n",
      "import numpy as np\n",
      "from pandas import Series\n",
      "\n",
      "#BookFile='../Data/bookings.csv'\n",
      "#SearchFile='../Data/searches.csv'\n",
      "BookFile='../Data/BookingsNoDuplicates.csv'\n",
      "SearchFile='../Data/SearchesNoDuplicates.csv'"
     ],
     "language": "python",
     "metadata": {},
     "outputs": [],
     "prompt_number": 1
    },
    {
     "cell_type": "markdown",
     "metadata": {},
     "source": [
      "Searches, and bookings have many duplicates, so I generated new files without duplicated rows."
     ]
    },
    {
     "cell_type": "raw",
     "metadata": {},
     "source": [
      "ReaderSearch = pd.read_csv(SearchFile, sep='^', iterator=True)\n",
      "Y=ReaderSearch.get_chunk(5000000)\n",
      "S1=Y.drop_duplicates()\n",
      "Y=ReaderSearch.get_chunk(5000000)\n",
      "S2=Y.drop_duplicates()\n",
      "Y=ReaderSearch.get_chunk(5000000)\n",
      "S3=Y.drop_duplicates()\n",
      "Y=ReaderSearch.get_chunk(5500000)\n",
      "S4=Y.drop_duplicates()\n",
      "del Y\n",
      "S_all=pd.concat([S1, S2, S3, S4])\n",
      "Search_NoDup=S_all.drop_duplicates()\n",
      "Search_NoDup.to_csv('../Data/SearchesNoDuplicates.csv', sep='^', index=False)\n",
      "#Y.info()"
     ]
    },
    {
     "cell_type": "raw",
     "metadata": {},
     "source": [
      "ReaderBookings = pd.read_csv(BookFile, sep='^', iterator=True)\n",
      "X=ReaderBookings.get_chunk(4000000)\n",
      "B1=X.drop_duplicates()\n",
      "X=ReaderBookings.get_chunk(4000000)\n",
      "B2=X.drop_duplicates()\n",
      "X=ReaderBookings.get_chunk(4000000)\n",
      "B3=X.drop_duplicates()\n",
      "del X\n",
      "B_all=pd.concat([B1, B2, B3])\n",
      "Book_NoDup=B_all.drop_duplicates()\n",
      "Book_NoDup.to_csv('../Data/BookingsNoDuplicates.csv', sep='^', index=False)\n",
      "#X.info()\n",
      "#X.columns"
     ]
    },
    {
     "cell_type": "markdown",
     "metadata": {},
     "source": [
      "Dates in bookings file do not have hour precision, so 'Time' column of searches is not used"
     ]
    },
    {
     "cell_type": "code",
     "collapsed": false,
     "input": [
      "Searches = pd.read_csv(SearchFile, sep='^', usecols=['Date', 'Origin','Destination', 'TxnCode','OfficeID','TerminalID' ])\n",
      "#Searches = pd.read_csv(SearchFile, sep='^', usecols=['Date','Time', 'Origin','Destination'])#, nrows=,\n",
      "len(Searches)"
     ],
     "language": "python",
     "metadata": {},
     "outputs": [
      {
       "metadata": {},
       "output_type": "pyout",
       "prompt_number": 2,
       "text": [
        "419016"
       ]
      }
     ],
     "prompt_number": 2
    },
    {
     "cell_type": "code",
     "collapsed": false,
     "input": [
      "Bookings = pd.read_csv(BookFile, sep='^', usecols=['act_date           ', 'dep_port', 'arr_port', 'cre_date           ','oid      ','pos_oid  '])#'cre_date           '\n",
      "len(Bookings)\n"
     ],
     "language": "python",
     "metadata": {},
     "outputs": [
      {
       "metadata": {},
       "output_type": "pyout",
       "prompt_number": 3,
       "text": [
        "1016377"
       ]
      }
     ],
     "prompt_number": 3
    },
    {
     "cell_type": "markdown",
     "metadata": {},
     "source": [
      "Remove NaN"
     ]
    },
    {
     "cell_type": "code",
     "collapsed": false,
     "input": [
      "Searches=Searches.dropna()\n",
      "Bookings=Bookings.dropna()\n",
      "len(Searches),len(Bookings)"
     ],
     "language": "python",
     "metadata": {},
     "outputs": [
      {
       "metadata": {},
       "output_type": "pyout",
       "prompt_number": 4,
       "text": [
        "(419012, 1016376)"
       ]
      }
     ],
     "prompt_number": 4
    },
    {
     "cell_type": "markdown",
     "metadata": {},
     "source": [
      "Transform 'Date' into Pandas Date format.\n",
      "\n",
      "By default to_datetime() fails silently if there is an issue and returns what was originally passed. Hence the call is made with errors='raise' option, in order to see if the error occurs."
     ]
    },
    {
     "cell_type": "code",
     "collapsed": false,
     "input": [
      "Searches['DatePandas'] = pd.to_datetime(Searches['Date'],errors='raise')\n",
      "Bookings['DatePandas'] = pd.to_datetime(Bookings['act_date           '],errors='raise')\n",
      "del Searches['Date']\n",
      "del Bookings['act_date           ']\n",
      "#Searches['DatePandas'][1],Bookings['DatePandas'][1]"
     ],
     "language": "python",
     "metadata": {},
     "outputs": [],
     "prompt_number": 5
    },
    {
     "cell_type": "markdown",
     "metadata": {},
     "source": [
      "Airport codes inside Bookings file have space after the IATA code which has to be removed. The correct format is put into 'Origin' and 'Destination' columns, while 'dep_port' and 'arr_port' columns are removed."
     ]
    },
    {
     "cell_type": "code",
     "collapsed": false,
     "input": [
      "Bookings['Origin'] = Bookings['dep_port'].map(str.strip)\n",
      "Bookings['Destination'] = Bookings['arr_port'].map(str.strip)\n",
      "del Bookings['dep_port']\n",
      "del Bookings['arr_port']\n",
      "#Bookings.head()"
     ],
     "language": "python",
     "metadata": {},
     "outputs": [],
     "prompt_number": 6
    },
    {
     "cell_type": "code",
     "collapsed": false,
     "input": [
      "#Bookings['Booked']=1\n",
      "Bookings.reset_index(inplace=True)\n",
      "Bookings.rename(columns={'index':'book ID'}, inplace=True)\n",
      "Searches.reset_index(inplace=True)\n",
      "Searches.rename(columns={'index':'search ID'}, inplace=True)"
     ],
     "language": "python",
     "metadata": {},
     "outputs": [],
     "prompt_number": 7
    },
    {
     "cell_type": "code",
     "collapsed": false,
     "input": [
      "Searches.sort(['Origin','Destination', 'DatePandas'],inplace=True)"
     ],
     "language": "python",
     "metadata": {},
     "outputs": [],
     "prompt_number": 8
    },
    {
     "cell_type": "code",
     "collapsed": false,
     "input": [
      "Bookings.sort(['Origin','Destination', 'DatePandas'],inplace=True)"
     ],
     "language": "python",
     "metadata": {},
     "outputs": [],
     "prompt_number": 9
    },
    {
     "cell_type": "code",
     "collapsed": false,
     "input": [
      "#SearchBook=pd.merge(Searches, Bookings, how='left', on=['DatePandas', 'Origin', 'Destination'])"
     ],
     "language": "python",
     "metadata": {},
     "outputs": [],
     "prompt_number": 10
    },
    {
     "cell_type": "code",
     "collapsed": false,
     "input": [
      "SearchBook_1=pd.merge(Searches[:100], Bookings, how='left', on=['Origin', 'Destination', 'DatePandas'])\n",
      "len(SearchBook_1)"
     ],
     "language": "python",
     "metadata": {},
     "outputs": [
      {
       "metadata": {},
       "output_type": "pyout",
       "prompt_number": 11,
       "text": [
        "101"
       ]
      }
     ],
     "prompt_number": 11
    },
    {
     "cell_type": "code",
     "collapsed": false,
     "input": [
      "SearchBook_1[SearchBook_1['search ID']==315132]"
     ],
     "language": "python",
     "metadata": {},
     "outputs": [
      {
       "html": [
        "<div style=\"max-height:1000px;max-width:1500px;overflow:auto;\">\n",
        "<table border=\"1\" class=\"dataframe\">\n",
        "  <thead>\n",
        "    <tr style=\"text-align: right;\">\n",
        "      <th></th>\n",
        "      <th>search ID</th>\n",
        "      <th>TxnCode</th>\n",
        "      <th>OfficeID</th>\n",
        "      <th>Origin</th>\n",
        "      <th>Destination</th>\n",
        "      <th>TerminalID</th>\n",
        "      <th>DatePandas</th>\n",
        "      <th>book ID</th>\n",
        "      <th>pos_oid  </th>\n",
        "      <th>cre_date           </th>\n",
        "      <th>oid      </th>\n",
        "    </tr>\n",
        "  </thead>\n",
        "  <tbody>\n",
        "    <tr>\n",
        "      <th>78</th>\n",
        "      <td> 315132</td>\n",
        "      <td> MPT</td>\n",
        "      <td> 01a4373dc0878961ab038a4089f8d4a7</td>\n",
        "      <td> AAL</td>\n",
        "      <td> CPH</td>\n",
        "      <td> d41d8cd98f00b204e9800998ecf8427e</td>\n",
        "      <td>2013-11-12</td>\n",
        "      <td> 466894</td>\n",
        "      <td> c4e65e6ef944dd362bd30d7d82445e76</td>\n",
        "      <td> 2013-11-12 00:00:00</td>\n",
        "      <td> CPHWE24AA</td>\n",
        "    </tr>\n",
        "    <tr>\n",
        "      <th>79</th>\n",
        "      <td> 315132</td>\n",
        "      <td> MPT</td>\n",
        "      <td> 01a4373dc0878961ab038a4089f8d4a7</td>\n",
        "      <td> AAL</td>\n",
        "      <td> CPH</td>\n",
        "      <td> d41d8cd98f00b204e9800998ecf8427e</td>\n",
        "      <td>2013-11-12</td>\n",
        "      <td> 466895</td>\n",
        "      <td> c4e65e6ef944dd362bd30d7d82445e76</td>\n",
        "      <td> 2013-11-12 00:00:00</td>\n",
        "      <td> CPHWE24AA</td>\n",
        "    </tr>\n",
        "  </tbody>\n",
        "</table>\n",
        "<p>2 rows \u00d7 11 columns</p>\n",
        "</div>"
       ],
       "metadata": {},
       "output_type": "pyout",
       "prompt_number": 12,
       "text": [
        "    search ID TxnCode                          OfficeID Origin Destination  \\\n",
        "78     315132     MPT  01a4373dc0878961ab038a4089f8d4a7    AAL         CPH   \n",
        "79     315132     MPT  01a4373dc0878961ab038a4089f8d4a7    AAL         CPH   \n",
        "\n",
        "                          TerminalID DatePandas  book ID  \\\n",
        "78  d41d8cd98f00b204e9800998ecf8427e 2013-11-12   466894   \n",
        "79  d41d8cd98f00b204e9800998ecf8427e 2013-11-12   466895   \n",
        "\n",
        "                           pos_oid    cre_date             oid        \n",
        "78  c4e65e6ef944dd362bd30d7d82445e76  2013-11-12 00:00:00  CPHWE24AA  \n",
        "79  c4e65e6ef944dd362bd30d7d82445e76  2013-11-12 00:00:00  CPHWE24AA  \n",
        "\n",
        "[2 rows x 11 columns]"
       ]
      }
     ],
     "prompt_number": 12
    },
    {
     "cell_type": "code",
     "collapsed": false,
     "input": [
      "SearchBook_1b=SearchBook_1.drop_duplicates()\n",
      "len(SearchBook_1b)"
     ],
     "language": "python",
     "metadata": {},
     "outputs": []
    },
    {
     "cell_type": "code",
     "collapsed": false,
     "input": [
      "SearchBook_2['Booked'].sum()"
     ],
     "language": "python",
     "metadata": {},
     "outputs": []
    },
    {
     "cell_type": "code",
     "collapsed": false,
     "input": [],
     "language": "python",
     "metadata": {},
     "outputs": []
    }
   ],
   "metadata": {}
  }
 ]
}