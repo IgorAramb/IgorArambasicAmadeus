{
 "metadata": {
  "name": "",
  "signature": "sha256:338a1856976b433c16ec0a2fdb116989d26e16a0768b0b952a52909c77ddeb3b"
 },
 "nbformat": 3,
 "nbformat_minor": 0,
 "worksheets": [
  {
   "cells": [
    {
     "cell_type": "code",
     "collapsed": false,
     "input": [
      "import pandas as pd\n",
      "import numpy as np\n",
      "from pandas import Series\n",
      "\n",
      "#BookFile='../Data/bookings.csv'\n",
      "#SearchFile='../Data/searches.csv'\n",
      "BookFile='../Data/BookingsNoDuplicates.csv'\n",
      "SearchFile='../Data/SearchesNoDuplicates.csv'"
     ],
     "language": "python",
     "metadata": {},
     "outputs": [],
     "prompt_number": 1
    },
    {
     "cell_type": "markdown",
     "metadata": {},
     "source": [
      "Searches, and bookings have many duplicates, so I generated new files without duplicated rows."
     ]
    },
    {
     "cell_type": "raw",
     "metadata": {},
     "source": [
      "ReaderSearch = pd.read_csv(SearchFile, sep='^', iterator=True)\n",
      "Y=ReaderSearch.get_chunk(5000000)\n",
      "S1=Y.drop_duplicates()\n",
      "Y=ReaderSearch.get_chunk(5000000)\n",
      "S2=Y.drop_duplicates()\n",
      "Y=ReaderSearch.get_chunk(5000000)\n",
      "S3=Y.drop_duplicates()\n",
      "Y=ReaderSearch.get_chunk(5500000)\n",
      "S4=Y.drop_duplicates()\n",
      "del Y\n",
      "S_all=pd.concat([S1, S2, S3, S4])\n",
      "Search_NoDup=S_all.drop_duplicates()\n",
      "Search_NoDup.to_csv('../Data/SearchesNoDuplicates.csv', sep='^', index=False)\n",
      "#Y.info()"
     ]
    },
    {
     "cell_type": "raw",
     "metadata": {},
     "source": [
      "ReaderBookings = pd.read_csv(BookFile, sep='^', iterator=True)\n",
      "X=ReaderBookings.get_chunk(4000000)\n",
      "B1=X.drop_duplicates()\n",
      "X=ReaderBookings.get_chunk(4000000)\n",
      "B2=X.drop_duplicates()\n",
      "X=ReaderBookings.get_chunk(4000000)\n",
      "B3=X.drop_duplicates()\n",
      "del X\n",
      "B_all=pd.concat([B1, B2, B3])\n",
      "Book_NoDup=B_all.drop_duplicates()\n",
      "Book_NoDup.to_csv('../Data/BookingsNoDuplicates.csv', sep='^', index=False)\n",
      "#X.info()\n",
      "#X.columns"
     ]
    },
    {
     "cell_type": "markdown",
     "metadata": {},
     "source": [
      "Dates in bookings file do not have hour precision, so 'Time' column of searches is not used"
     ]
    },
    {
     "cell_type": "code",
     "collapsed": false,
     "input": [
      "Searches = pd.read_csv(SearchFile, sep='^', usecols=['Date', 'Origin','Destination'])\n",
      "#Searches = pd.read_csv(SearchFile, sep='^', usecols=['Date', 'Origin','Destination', 'TxnCode','OfficeID','TerminalID' ])\n",
      "#Searches = pd.read_csv(SearchFile, sep='^', usecols=['Date','Time', 'Origin','Destination'])#, nrows=,\n",
      "#len(Searches)\n",
      "\n"
     ],
     "language": "python",
     "metadata": {},
     "outputs": [],
     "prompt_number": 2
    },
    {
     "cell_type": "code",
     "collapsed": false,
     "input": [
      "Bookings = pd.read_csv(BookFile, sep='^', usecols=['act_date           ', 'dep_port', 'arr_port'])#'cre_date           '\n",
      "#Bookings = pd.read_csv(BookFile, sep='^', usecols=['act_date           ', 'dep_port', 'arr_port', 'cre_date           ','oid      ','pos_oid  '])#'cre_date           '\n",
      "#len(Bookings)\n"
     ],
     "language": "python",
     "metadata": {},
     "outputs": [],
     "prompt_number": 3
    },
    {
     "cell_type": "markdown",
     "metadata": {},
     "source": [
      "Remove NaN"
     ]
    },
    {
     "cell_type": "code",
     "collapsed": false,
     "input": [
      "Searches=Searches.dropna()\n",
      "Bookings=Bookings.dropna()\n",
      "len(Searches),len(Bookings)"
     ],
     "language": "python",
     "metadata": {},
     "outputs": [
      {
       "metadata": {},
       "output_type": "pyout",
       "prompt_number": 4,
       "text": [
        "(419015, 1016377)"
       ]
      }
     ],
     "prompt_number": 4
    },
    {
     "cell_type": "markdown",
     "metadata": {},
     "source": [
      "Transform 'Date' into Pandas Date format.\n",
      "\n",
      "By default to_datetime() fails silently if there is an issue and returns what was originally passed. Hence the call is made with errors='raise' option, in order to see if the error occurs."
     ]
    },
    {
     "cell_type": "code",
     "collapsed": false,
     "input": [
      "Searches['DatePandas'] = pd.to_datetime(Searches['Date'],errors='raise')\n",
      "Bookings['DatePandas'] = pd.to_datetime(Bookings['act_date           '],errors='raise')\n",
      "del Searches['Date']\n",
      "del Bookings['act_date           ']\n",
      "#Searches['DatePandas'][1],Bookings['DatePandas'][1]"
     ],
     "language": "python",
     "metadata": {},
     "outputs": [],
     "prompt_number": 5
    },
    {
     "cell_type": "markdown",
     "metadata": {},
     "source": [
      "Airport codes inside Bookings file have space after the IATA code which has to be removed. The correct format is put into 'Origin' and 'Destination' columns, while 'dep_port' and 'arr_port' columns are removed."
     ]
    },
    {
     "cell_type": "code",
     "collapsed": false,
     "input": [
      "Bookings['Origin'] = Bookings['dep_port'].map(str.strip)\n",
      "Bookings['Destination'] = Bookings['arr_port'].map(str.strip)\n",
      "del Bookings['dep_port']\n",
      "del Bookings['arr_port']\n",
      "#Bookings.head()"
     ],
     "language": "python",
     "metadata": {},
     "outputs": [],
     "prompt_number": 6
    },
    {
     "cell_type": "code",
     "collapsed": false,
     "input": [
      "Bookings.reset_index(inplace=True)\n",
      "Bookings.rename(columns={'index':'book ID'}, inplace=True)\n",
      "Searches.reset_index(inplace=True)\n",
      "Searches.rename(columns={'index':'search ID'}, inplace=True)"
     ],
     "language": "python",
     "metadata": {},
     "outputs": [],
     "prompt_number": 7
    },
    {
     "cell_type": "code",
     "collapsed": false,
     "input": [
      "Searches.sort(['Origin','Destination', 'DatePandas'],inplace=True)"
     ],
     "language": "python",
     "metadata": {},
     "outputs": [],
     "prompt_number": 8
    },
    {
     "cell_type": "code",
     "collapsed": false,
     "input": [
      "Bookings.sort(['Origin','Destination', 'DatePandas'],inplace=True)"
     ],
     "language": "python",
     "metadata": {},
     "outputs": [],
     "prompt_number": 9
    },
    {
     "cell_type": "markdown",
     "metadata": {},
     "source": [
      "Booking should follow search inside some time window. Since no exact time of booking is available, I will proceed with the hypothesis that the search and booking took place the same day.   "
     ]
    },
    {
     "cell_type": "code",
     "collapsed": false,
     "input": [
      "SearchBook=pd.merge(Searches, Bookings, how='left', on=['Origin', 'Destination', 'DatePandas'])\n",
      "len(SearchBook)"
     ],
     "language": "python",
     "metadata": {},
     "outputs": [
      {
       "metadata": {},
       "output_type": "pyout",
       "prompt_number": 10,
       "text": [
        "453559"
       ]
      }
     ],
     "prompt_number": 10
    },
    {
     "cell_type": "markdown",
     "metadata": {},
     "source": [
      "If one search_ID has more than 1 booking_ID than it surely ended up in booking. However, what happens if there are more searches than bookings in one day?\n",
      "\n",
      "Let's generate a column with the total number of bookings for the same origin and destination in one day and add it to the SearchBook table."
     ]
    },
    {
     "cell_type": "code",
     "collapsed": false,
     "input": [
      "Bookings['Num Bookings']=1\n",
      "B1=Bookings.groupby(['Origin','Destination', 'DatePandas']).sum()\n",
      "del B1['book ID']\n",
      "B1.reset_index(inplace=True)"
     ],
     "language": "python",
     "metadata": {},
     "outputs": [],
     "prompt_number": 11
    },
    {
     "cell_type": "code",
     "collapsed": false,
     "input": [
      "SearchBook=pd.merge(SearchBook, B1, how='left', on=['Origin', 'Destination', 'DatePandas'])\n",
      "del B1\n",
      "len(SearchBook)\n",
      "#SearchBook[SearchBook['Num Bookings']>0]"
     ],
     "language": "python",
     "metadata": {},
     "outputs": [
      {
       "metadata": {},
       "output_type": "pyout",
       "prompt_number": 12,
       "text": [
        "453559"
       ]
      }
     ],
     "prompt_number": 12
    },
    {
     "cell_type": "markdown",
     "metadata": {},
     "source": [
      "Simple function that counts the number of different values of 'Index' (Index is sorted) and writes the number to counter. "
     ]
    },
    {
     "cell_type": "code",
     "collapsed": false,
     "input": [
      "def set_globvar_to_one():\n",
      "    global Countme    # Needed to modify global copy of globvar\n",
      "    Countme = 1\n",
      "    \n",
      "def counter(x):\n",
      "    global Countme\n",
      "   # if x>0:\n",
      "    #    print(\"x=\",x, \"Countme=\",Countme)\n",
      "    if (x>0 and test['index'][x-1]==test['index'][x]):\n",
      "   #     print ('          usao',x, test['index'][x-1], test['index'][x], Countme+1)\n",
      "        Countme=Countme+1\n",
      "        return Countme\n",
      "    else:\n",
      "    #    print ('Nisam usao, x=',x)\n",
      "        Countme=1\n",
      "        return Countme"
     ],
     "language": "python",
     "metadata": {},
     "outputs": [],
     "prompt_number": 17
    },
    {
     "cell_type": "code",
     "collapsed": false,
     "input": [
      "test = pd.DataFrame(index=range(10), columns=['index'])\n",
      "test['index']=range(10)\n",
      "test['index'][3]=2\n",
      "test['counter']=0\n",
      "test"
     ],
     "language": "python",
     "metadata": {},
     "outputs": [
      {
       "html": [
        "<div style=\"max-height:1000px;max-width:1500px;overflow:auto;\">\n",
        "<table border=\"1\" class=\"dataframe\">\n",
        "  <thead>\n",
        "    <tr style=\"text-align: right;\">\n",
        "      <th></th>\n",
        "      <th>index</th>\n",
        "      <th>counter</th>\n",
        "    </tr>\n",
        "  </thead>\n",
        "  <tbody>\n",
        "    <tr>\n",
        "      <th>0</th>\n",
        "      <td> 0</td>\n",
        "      <td> 0</td>\n",
        "    </tr>\n",
        "    <tr>\n",
        "      <th>1</th>\n",
        "      <td> 1</td>\n",
        "      <td> 0</td>\n",
        "    </tr>\n",
        "    <tr>\n",
        "      <th>2</th>\n",
        "      <td> 2</td>\n",
        "      <td> 0</td>\n",
        "    </tr>\n",
        "    <tr>\n",
        "      <th>3</th>\n",
        "      <td> 2</td>\n",
        "      <td> 0</td>\n",
        "    </tr>\n",
        "    <tr>\n",
        "      <th>4</th>\n",
        "      <td> 4</td>\n",
        "      <td> 0</td>\n",
        "    </tr>\n",
        "    <tr>\n",
        "      <th>5</th>\n",
        "      <td> 5</td>\n",
        "      <td> 0</td>\n",
        "    </tr>\n",
        "    <tr>\n",
        "      <th>6</th>\n",
        "      <td> 6</td>\n",
        "      <td> 0</td>\n",
        "    </tr>\n",
        "    <tr>\n",
        "      <th>7</th>\n",
        "      <td> 7</td>\n",
        "      <td> 0</td>\n",
        "    </tr>\n",
        "    <tr>\n",
        "      <th>8</th>\n",
        "      <td> 8</td>\n",
        "      <td> 0</td>\n",
        "    </tr>\n",
        "    <tr>\n",
        "      <th>9</th>\n",
        "      <td> 9</td>\n",
        "      <td> 0</td>\n",
        "    </tr>\n",
        "  </tbody>\n",
        "</table>\n",
        "<p>10 rows \u00d7 2 columns</p>\n",
        "</div>"
       ],
       "metadata": {},
       "output_type": "pyout",
       "prompt_number": 18,
       "text": [
        "   index  counter\n",
        "0      0        0\n",
        "1      1        0\n",
        "2      2        0\n",
        "3      2        0\n",
        "4      4        0\n",
        "5      5        0\n",
        "6      6        0\n",
        "7      7        0\n",
        "8      8        0\n",
        "9      9        0\n",
        "\n",
        "[10 rows x 2 columns]"
       ]
      }
     ],
     "prompt_number": 18
    },
    {
     "cell_type": "code",
     "collapsed": false,
     "input": [
      "set_globvar_to_one()\n",
      "test['counter']=map(counter, test.index)\n",
      "test"
     ],
     "language": "python",
     "metadata": {},
     "outputs": [
      {
       "html": [
        "<div style=\"max-height:1000px;max-width:1500px;overflow:auto;\">\n",
        "<table border=\"1\" class=\"dataframe\">\n",
        "  <thead>\n",
        "    <tr style=\"text-align: right;\">\n",
        "      <th></th>\n",
        "      <th>index</th>\n",
        "      <th>counter</th>\n",
        "    </tr>\n",
        "  </thead>\n",
        "  <tbody>\n",
        "    <tr>\n",
        "      <th>0</th>\n",
        "      <td> 0</td>\n",
        "      <td> 1</td>\n",
        "    </tr>\n",
        "    <tr>\n",
        "      <th>1</th>\n",
        "      <td> 1</td>\n",
        "      <td> 1</td>\n",
        "    </tr>\n",
        "    <tr>\n",
        "      <th>2</th>\n",
        "      <td> 2</td>\n",
        "      <td> 1</td>\n",
        "    </tr>\n",
        "    <tr>\n",
        "      <th>3</th>\n",
        "      <td> 2</td>\n",
        "      <td> 2</td>\n",
        "    </tr>\n",
        "    <tr>\n",
        "      <th>4</th>\n",
        "      <td> 4</td>\n",
        "      <td> 1</td>\n",
        "    </tr>\n",
        "    <tr>\n",
        "      <th>5</th>\n",
        "      <td> 5</td>\n",
        "      <td> 1</td>\n",
        "    </tr>\n",
        "    <tr>\n",
        "      <th>6</th>\n",
        "      <td> 6</td>\n",
        "      <td> 1</td>\n",
        "    </tr>\n",
        "    <tr>\n",
        "      <th>7</th>\n",
        "      <td> 7</td>\n",
        "      <td> 1</td>\n",
        "    </tr>\n",
        "    <tr>\n",
        "      <th>8</th>\n",
        "      <td> 8</td>\n",
        "      <td> 1</td>\n",
        "    </tr>\n",
        "    <tr>\n",
        "      <th>9</th>\n",
        "      <td> 9</td>\n",
        "      <td> 1</td>\n",
        "    </tr>\n",
        "  </tbody>\n",
        "</table>\n",
        "<p>10 rows \u00d7 2 columns</p>\n",
        "</div>"
       ],
       "metadata": {},
       "output_type": "pyout",
       "prompt_number": 19,
       "text": [
        "   index  counter\n",
        "0      0        1\n",
        "1      1        1\n",
        "2      2        1\n",
        "3      2        2\n",
        "4      4        1\n",
        "5      5        1\n",
        "6      6        1\n",
        "7      7        1\n",
        "8      8        1\n",
        "9      9        1\n",
        "\n",
        "[10 rows x 2 columns]"
       ]
      }
     ],
     "prompt_number": 19
    },
    {
     "cell_type": "code",
     "collapsed": false,
     "input": [],
     "language": "python",
     "metadata": {},
     "outputs": []
    }
   ],
   "metadata": {}
  }
 ]
}