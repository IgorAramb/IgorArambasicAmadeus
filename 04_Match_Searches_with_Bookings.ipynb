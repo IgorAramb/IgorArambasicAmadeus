{
 "metadata": {
  "name": "",
  "signature": "sha256:c411d87b8d22d57957c553af81ba59d78dbdf9a96edd84705cbca33a21e43ca9"
 },
 "nbformat": 3,
 "nbformat_minor": 0,
 "worksheets": [
  {
   "cells": [
    {
     "cell_type": "code",
     "collapsed": false,
     "input": [
      "import pandas as pd\n",
      "import numpy as np\n",
      "from pandas import Series\n",
      "\n",
      "BookFile='../Data/bookings.csv'\n",
      "SearchFile='../Data/searches.csv'"
     ],
     "language": "python",
     "metadata": {},
     "outputs": [],
     "prompt_number": 1
    },
    {
     "cell_type": "code",
     "collapsed": false,
     "input": [
      "#ReaderBookings = pd.read_csv(BookFile, sep='^', iterator=True)\n",
      "#X=ReaderBookings.get_chunk(5)\n",
      "#X.info()"
     ],
     "language": "python",
     "metadata": {},
     "outputs": [],
     "prompt_number": 2
    },
    {
     "cell_type": "code",
     "collapsed": false,
     "input": [
      "#X.columns"
     ],
     "language": "python",
     "metadata": {},
     "outputs": [],
     "prompt_number": 3
    },
    {
     "cell_type": "markdown",
     "metadata": {},
     "source": [
      "Searches file has many duplicates, so I generated a new file by removing the duplicated fields."
     ]
    },
    {
     "cell_type": "raw",
     "metadata": {},
     "source": [
      "ReaderSearch = pd.read_csv(SearchFile, sep='^', iterator=True)\n",
      "Y=ReaderSearch.get_chunk(5000000)\n",
      "S1=Y.drop_duplicates()\n",
      "Y=ReaderSearch.get_chunk(5000000)\n",
      "S2=Y.drop_duplicates()\n",
      "Y=ReaderSearch.get_chunk(5000000)\n",
      "S3=Y.drop_duplicates()\n",
      "Y=ReaderSearch.get_chunk(5500000)\n",
      "S4=Y.drop_duplicates()\n",
      "del Y\n",
      "S_all=pd.concat([S2, S3, S4, S5])\n",
      "Search_NoDup=S_all.drop_duplicates()\n",
      "Search_NoDup.to_csv('../Data/SearchesNoDuplicates.csv', sep='^', index=False)\n",
      "#Y.info()"
     ]
    },
    {
     "cell_type": "code",
     "collapsed": false,
     "input": [
      "Searches = pd.read_csv('../Data/SearchesNoDuplicates.csv', sep='^', usecols=['Date','Time', 'Origin','Destination'])\n",
      "#Searches = pd.read_csv(SearchFile, sep='^', usecols=['Date','Time', 'Origin','Destination'])#, nrows=,\n",
      "#len(Searches)"
     ],
     "language": "python",
     "metadata": {},
     "outputs": [],
     "prompt_number": 16
    },
    {
     "cell_type": "code",
     "collapsed": false,
     "input": [
      "Bookings = pd.read_csv(BookFile, sep='^', usecols=['act_date           ', 'dep_port', 'arr_port'])#'cre_date           '\n",
      "#len(Bookings)"
     ],
     "language": "python",
     "metadata": {},
     "outputs": [],
     "prompt_number": 7
    },
    {
     "cell_type": "markdown",
     "metadata": {},
     "source": [
      "Remove NaN"
     ]
    },
    {
     "cell_type": "code",
     "collapsed": false,
     "input": [
      "Searches=Searches.dropna()\n",
      "Bookings=Bookings.dropna()\n",
      "#len(Searches),len(Bookings)"
     ],
     "language": "python",
     "metadata": {},
     "outputs": [],
     "prompt_number": 8
    },
    {
     "cell_type": "markdown",
     "metadata": {},
     "source": [
      "Transform 'Date' into Pandas Date format.\n",
      "\n",
      "By default to_datetime() fails silently if there is an issue and returns what was originally passed. Hence the call is made with errors='raise' option, in order to see if the error occurs."
     ]
    },
    {
     "cell_type": "code",
     "collapsed": false,
     "input": [
      "Searches['DatePandas'] = pd.to_datetime(Searches['Date'],errors='raise')\n",
      "Bookings['DatePandas'] = pd.to_datetime(Bookings['act_date           '],errors='raise')\n",
      "#Searches['DatePandas'][1],Bookings['DatePandas'][1]"
     ],
     "language": "python",
     "metadata": {},
     "outputs": [],
     "prompt_number": 9
    },
    {
     "cell_type": "markdown",
     "metadata": {},
     "source": [
      "Airport codes inside Bookings file have space after the IATA code which has to be removed. The correct format is put into 'Origin' and 'Destination' columns, while 'dep_port' and 'arr_port' columns are removed."
     ]
    },
    {
     "cell_type": "code",
     "collapsed": false,
     "input": [
      "Bookings['Origin'] = Bookings['dep_port'].map(str.strip)\n",
      "Bookings['Destination'] = Bookings['arr_port'].map(str.strip)\n",
      "del Bookings['dep_port']\n",
      "del Bookings['arr_port']\n",
      "#Bookings.head()"
     ],
     "language": "python",
     "metadata": {},
     "outputs": [],
     "prompt_number": 10
    },
    {
     "cell_type": "code",
     "collapsed": false,
     "input": [
      "Bookings['Booked']=1\n",
      "Bookings.reset_index(inplace=True)\n",
      "Bookings.rename(columns={'index':'book ID'}, inplace=True)\n",
      "Searches.reset_index(inplace=True)\n",
      "Searches.rename(columns={'index':'search ID'}, inplace=True)"
     ],
     "language": "python",
     "metadata": {},
     "outputs": [],
     "prompt_number": 11
    },
    {
     "cell_type": "code",
     "collapsed": false,
     "input": [
      "#SearchBook=pd.merge(Searches, Bookings, how='left', on=['DatePandas', 'Origin', 'Destination'])"
     ],
     "language": "python",
     "metadata": {},
     "outputs": [],
     "prompt_number": 12
    },
    {
     "cell_type": "code",
     "collapsed": false,
     "input": [
      "SearchBook_1=pd.merge(Searches[:25], Bookings, how='left', on=['DatePandas', 'Origin', 'Destination'])\n",
      "len(SearchBook_1)"
     ],
     "language": "python",
     "metadata": {},
     "outputs": []
    },
    {
     "cell_type": "code",
     "collapsed": false,
     "input": [
      "SearchBook_1b=SearchBook_1.drop_duplicates()\n",
      "len(SearchBook_1b)"
     ],
     "language": "python",
     "metadata": {},
     "outputs": []
    },
    {
     "cell_type": "code",
     "collapsed": false,
     "input": [
      "SearchBook_2['Booked'].sum()"
     ],
     "language": "python",
     "metadata": {},
     "outputs": []
    },
    {
     "cell_type": "code",
     "collapsed": false,
     "input": [],
     "language": "python",
     "metadata": {},
     "outputs": []
    }
   ],
   "metadata": {}
  }
 ]
}