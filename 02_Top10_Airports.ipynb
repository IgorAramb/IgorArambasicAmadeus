{
 "metadata": {
  "name": "",
  "signature": "sha256:d6ceac27302e821eafcabdc49572428739187b31859b6ea0b259bf00b943da90"
 },
 "nbformat": 3,
 "nbformat_minor": 0,
 "worksheets": [
  {
   "cells": [
    {
     "cell_type": "heading",
     "level": 1,
     "metadata": {},
     "source": [
      "Top 10 Arrival Airports in 2013"
     ]
    },
    {
     "cell_type": "code",
     "collapsed": false,
     "input": [
      "import pandas as pd\n",
      "import numpy as np\n",
      "from GeoBases import GeoBase"
     ],
     "language": "python",
     "metadata": {},
     "outputs": [],
     "prompt_number": 1
    },
    {
     "cell_type": "code",
     "collapsed": false,
     "input": [
      "n=10 #Size of a final list of airports\n",
      "BookFile='../Data/bookings.csv'\n",
      "SearchFile='../Data/searches.csv'"
     ],
     "language": "python",
     "metadata": {},
     "outputs": [],
     "prompt_number": 2
    },
    {
     "cell_type": "code",
     "collapsed": false,
     "input": [
      "geo_o = GeoBase(data='ori_por', verbose=False)\n",
      "#geo_o.get('CDG', 'city_code')\n",
      "#geo_o.get('LHR', 'name')"
     ],
     "language": "python",
     "metadata": {},
     "outputs": [],
     "prompt_number": 3
    },
    {
     "cell_type": "markdown",
     "metadata": {},
     "source": [
      "After locating the columns of interest and the separator type, the entire file was read for only 2 columns"
     ]
    },
    {
     "cell_type": "code",
     "collapsed": false,
     "input": [
      "BookingsAll = pd.read_csv(BookFile, sep='^', usecols=['arr_port','pax'])"
     ],
     "language": "python",
     "metadata": {},
     "outputs": [],
     "prompt_number": 4
    },
    {
     "cell_type": "markdown",
     "metadata": {},
     "source": [
      "Remove NaN"
     ]
    },
    {
     "cell_type": "code",
     "collapsed": false,
     "input": [
      "BookingsAll=BookingsAll.dropna()"
     ],
     "language": "python",
     "metadata": {},
     "outputs": [],
     "prompt_number": 5
    },
    {
     "cell_type": "markdown",
     "metadata": {},
     "source": [
      "Group by Airport, sum the passengers, sort the result and reset the index\n"
     ]
    },
    {
     "cell_type": "code",
     "collapsed": false,
     "input": [
      "TopAirport = BookingsAll.groupby(['arr_port']).sum()\n",
      "TopAirport = TopAirport.sort('pax', ascending=0)\n",
      "TopAirport=TopAirport.reset_index()"
     ],
     "language": "python",
     "metadata": {},
     "outputs": [],
     "prompt_number": 6
    },
    {
     "cell_type": "markdown",
     "metadata": {},
     "source": [
      "Top n airports and the corresponding number of Passengers printed at standard output"
     ]
    },
    {
     "cell_type": "code",
     "collapsed": false,
     "input": [
      "TopN=TopAirport[:n]\n",
      "TopN.index=TopN.index+1\n",
      "print(TopN)"
     ],
     "language": "python",
     "metadata": {},
     "outputs": [
      {
       "output_type": "stream",
       "stream": "stdout",
       "text": [
        "    arr_port    pax\n",
        "1   LHR       88809\n",
        "2   MCO       70930\n",
        "3   LAX       70530\n",
        "4   LAS       69630\n",
        "5   JFK       66270\n",
        "6   CDG       64490\n",
        "7   BKK       59460\n",
        "8   MIA       58150\n",
        "9   SFO       58000\n",
        "10  DXB       55590\n",
        "\n",
        "[10 rows x 2 columns]\n"
       ]
      }
     ],
     "prompt_number": 7
    },
    {
     "cell_type": "markdown",
     "metadata": {},
     "source": [
      "Using GeoBases to get the name of the airport"
     ]
    },
    {
     "cell_type": "code",
     "collapsed": false,
     "input": [
      "columns = ['Name']\n",
      "index = np.arange(n)+1 # array of numbers for the number of samples\n",
      "FinalResult = pd.DataFrame(columns=columns, index = index)\n",
      "\n",
      "for k in xrange(n):\n",
      "    FinalResult.ix[k+1]=geo_o.get(TopN['arr_port'][k+1][:3], 'name')\n",
      "FinalResult['IATA']=TopN['arr_port']\n",
      "FinalResult['Pax']=TopN['pax']\n",
      "FinalResult"
     ],
     "language": "python",
     "metadata": {},
     "outputs": [
      {
       "html": [
        "<div style=\"max-height:1000px;max-width:1500px;overflow:auto;\">\n",
        "<table border=\"1\" class=\"dataframe\">\n",
        "  <thead>\n",
        "    <tr style=\"text-align: right;\">\n",
        "      <th></th>\n",
        "      <th>Name</th>\n",
        "      <th>IATA</th>\n",
        "      <th>Pax</th>\n",
        "    </tr>\n",
        "  </thead>\n",
        "  <tbody>\n",
        "    <tr>\n",
        "      <th>1 </th>\n",
        "      <td>              London Heathrow Airport</td>\n",
        "      <td> LHR     </td>\n",
        "      <td> 88809</td>\n",
        "    </tr>\n",
        "    <tr>\n",
        "      <th>2 </th>\n",
        "      <td>        Orlando International Airport</td>\n",
        "      <td> MCO     </td>\n",
        "      <td> 70930</td>\n",
        "    </tr>\n",
        "    <tr>\n",
        "      <th>3 </th>\n",
        "      <td>    Los Angeles International Airport</td>\n",
        "      <td> LAX     </td>\n",
        "      <td> 70530</td>\n",
        "    </tr>\n",
        "    <tr>\n",
        "      <th>4 </th>\n",
        "      <td>      Mc Carran International Airport</td>\n",
        "      <td> LAS     </td>\n",
        "      <td> 69630</td>\n",
        "    </tr>\n",
        "    <tr>\n",
        "      <th>5 </th>\n",
        "      <td> John F Kennedy International Airport</td>\n",
        "      <td> JFK     </td>\n",
        "      <td> 66270</td>\n",
        "    </tr>\n",
        "    <tr>\n",
        "      <th>6 </th>\n",
        "      <td>            Paris - Charles-de-Gaulle</td>\n",
        "      <td> CDG     </td>\n",
        "      <td> 64490</td>\n",
        "    </tr>\n",
        "    <tr>\n",
        "      <th>7 </th>\n",
        "      <td>                         Suvarnabhumi</td>\n",
        "      <td> BKK     </td>\n",
        "      <td> 59460</td>\n",
        "    </tr>\n",
        "    <tr>\n",
        "      <th>8 </th>\n",
        "      <td>          Miami International Airport</td>\n",
        "      <td> MIA     </td>\n",
        "      <td> 58150</td>\n",
        "    </tr>\n",
        "    <tr>\n",
        "      <th>9 </th>\n",
        "      <td>  San Francisco International Airport</td>\n",
        "      <td> SFO     </td>\n",
        "      <td> 58000</td>\n",
        "    </tr>\n",
        "    <tr>\n",
        "      <th>10</th>\n",
        "      <td>          Dubai International Airport</td>\n",
        "      <td> DXB     </td>\n",
        "      <td> 55590</td>\n",
        "    </tr>\n",
        "  </tbody>\n",
        "</table>\n",
        "<p>10 rows \u00d7 3 columns</p>\n",
        "</div>"
       ],
       "metadata": {},
       "output_type": "pyout",
       "prompt_number": 8,
       "text": [
        "                                    Name      IATA    Pax\n",
        "1                London Heathrow Airport  LHR       88809\n",
        "2          Orlando International Airport  MCO       70930\n",
        "3      Los Angeles International Airport  LAX       70530\n",
        "4        Mc Carran International Airport  LAS       69630\n",
        "5   John F Kennedy International Airport  JFK       66270\n",
        "6              Paris - Charles-de-Gaulle  CDG       64490\n",
        "7                           Suvarnabhumi  BKK       59460\n",
        "8            Miami International Airport  MIA       58150\n",
        "9    San Francisco International Airport  SFO       58000\n",
        "10           Dubai International Airport  DXB       55590\n",
        "\n",
        "[10 rows x 3 columns]"
       ]
      }
     ],
     "prompt_number": 8
    },
    {
     "cell_type": "code",
     "collapsed": false,
     "input": [],
     "language": "python",
     "metadata": {},
     "outputs": []
    }
   ],
   "metadata": {}
  }
 ]
}