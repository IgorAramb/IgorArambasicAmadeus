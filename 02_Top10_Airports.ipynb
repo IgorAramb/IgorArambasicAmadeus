{
 "metadata": {
  "name": "",
  "signature": "sha256:6dca0330b27b9f4669dd9328c7a8bb85c891302c075804874e94f747d6dfc4ea"
 },
 "nbformat": 3,
 "nbformat_minor": 0,
 "worksheets": [
  {
   "cells": [
    {
     "cell_type": "heading",
     "level": 1,
     "metadata": {},
     "source": [
      "Top 10 Arrival Airports in 2013"
     ]
    },
    {
     "cell_type": "code",
     "collapsed": false,
     "input": [
      "import pandas as pd\n",
      "import numpy as np"
     ],
     "language": "python",
     "metadata": {},
     "outputs": [],
     "prompt_number": 1
    },
    {
     "cell_type": "code",
     "collapsed": false,
     "input": [
      "from GeoBases import GeoBase"
     ],
     "language": "python",
     "metadata": {},
     "outputs": [],
     "prompt_number": 2
    },
    {
     "cell_type": "code",
     "collapsed": false,
     "input": [
      "n=10\n",
      "BookFile='../Data/bookings.csv'\n",
      "SearchFile='../Data/searches.csv'"
     ],
     "language": "python",
     "metadata": {},
     "outputs": [],
     "prompt_number": 3
    },
    {
     "cell_type": "code",
     "collapsed": false,
     "input": [
      "geo_o = GeoBase(data='ori_por', verbose=False)\n",
      "#geo_o.get('CDG', 'city_code')\n",
      "#geo_o.get('LHR', 'name')"
     ],
     "language": "python",
     "metadata": {},
     "outputs": [],
     "prompt_number": 4
    },
    {
     "cell_type": "markdown",
     "metadata": {},
     "source": [
      "I have tried reading the entire file with pd.read_csv() and pd.read_table() but reading lasted \"for ever\" and the system run out of memory "
     ]
    },
    {
     "cell_type": "code",
     "collapsed": false,
     "input": [
      "#ReaderBookings = pd.read_csv(BookFile, sep='^', iterator=True)\n",
      "#X=ReaderBookings.get_chunk(5)\n",
      "#X.info()"
     ],
     "language": "python",
     "metadata": {},
     "outputs": [],
     "prompt_number": 7
    },
    {
     "cell_type": "code",
     "collapsed": false,
     "input": [
      "#X.columns\n"
     ],
     "language": "python",
     "metadata": {},
     "outputs": [],
     "prompt_number": 8
    },
    {
     "cell_type": "markdown",
     "metadata": {},
     "source": [
      "After locating the columns of interest and the separator type, the entire file was read for only 2 columns"
     ]
    },
    {
     "cell_type": "code",
     "collapsed": false,
     "input": [
      "BookingsAll = pd.read_csv(BookFile, sep='^', usecols=['arr_port','pax'])\n",
      "#BookingsAll[:5]"
     ],
     "language": "python",
     "metadata": {},
     "outputs": [],
     "prompt_number": 5
    },
    {
     "cell_type": "markdown",
     "metadata": {},
     "source": [
      "Remove NaN"
     ]
    },
    {
     "cell_type": "code",
     "collapsed": false,
     "input": [
      "BookingsAll=BookingsAll.dropna()"
     ],
     "language": "python",
     "metadata": {},
     "outputs": [],
     "prompt_number": 6
    },
    {
     "cell_type": "markdown",
     "metadata": {},
     "source": [
      "Group by Airport, sum the passengers, and sort the result"
     ]
    },
    {
     "cell_type": "code",
     "collapsed": false,
     "input": [
      "TopAirport = BookingsAll.groupby(['arr_port']).sum()\n",
      "TopAirport = TopAirport.sort('pax', ascending=0)\n",
      "TopAirport=TopAirport.reset_index()"
     ],
     "language": "python",
     "metadata": {},
     "outputs": [],
     "prompt_number": 20
    },
    {
     "cell_type": "code",
     "collapsed": false,
     "input": [
      "TopN=TopAirport[:n]\n",
      "TopN.index=TopN.index+1"
     ],
     "language": "python",
     "metadata": {},
     "outputs": [],
     "prompt_number": 34
    },
    {
     "cell_type": "markdown",
     "metadata": {},
     "source": [
      "Top n airports and the corresponding number of Passengers"
     ]
    },
    {
     "cell_type": "code",
     "collapsed": false,
     "input": [
      "print(TopN)\n",
      "#StringTop=TopAirport[:10].to_string(header=False)\n",
      "#TopAirport.iloc[1,0]\n",
      "#print(StringTop.iloc[1,0])"
     ],
     "language": "python",
     "metadata": {},
     "outputs": [
      {
       "output_type": "stream",
       "stream": "stdout",
       "text": [
        "    arr_port    pax\n",
        "1   LHR       88809\n",
        "2   MCO       70930\n",
        "3   LAX       70530\n",
        "4   LAS       69630\n",
        "5   JFK       66270\n",
        "6   CDG       64490\n",
        "7   BKK       59460\n",
        "8   MIA       58150\n",
        "9   SFO       58000\n",
        "10  DXB       55590\n",
        "\n",
        "[10 rows x 2 columns]\n"
       ]
      }
     ],
     "prompt_number": 35
    },
    {
     "cell_type": "markdown",
     "metadata": {},
     "source": [
      "Using geobases to get the name of the city or airport"
     ]
    },
    {
     "cell_type": "code",
     "collapsed": false,
     "input": [
      "IATA=TopN['arr_port']\n",
      "#IATA[1][:3]\n",
      "TopN['arr_port'][10][:3]"
     ],
     "language": "python",
     "metadata": {},
     "outputs": [
      {
       "metadata": {},
       "output_type": "pyout",
       "prompt_number": 57,
       "text": [
        "'DXB'"
       ]
      }
     ],
     "prompt_number": 57
    },
    {
     "cell_type": "code",
     "collapsed": false,
     "input": [
      "\n",
      "columns = ['Name']\n",
      "index = np.arange(n)+1 # array of numbers for the number of samples\n",
      "data = pd.DataFrame(columns=columns, index = index)\n",
      "\n",
      "\n",
      "for k in xrange(n):\n",
      "    #data.ix[k+1] = TopN['arr_port'][k+1][:3]\n",
      "    data.ix[k+1]=geo_o.get(TopN['arr_port'][k+1][:3], 'name')\n",
      "data"
     ],
     "language": "python",
     "metadata": {},
     "outputs": [
      {
       "html": [
        "<div style=\"max-height:1000px;max-width:1500px;overflow:auto;\">\n",
        "<table border=\"1\" class=\"dataframe\">\n",
        "  <thead>\n",
        "    <tr style=\"text-align: right;\">\n",
        "      <th></th>\n",
        "      <th>Name</th>\n",
        "    </tr>\n",
        "  </thead>\n",
        "  <tbody>\n",
        "    <tr>\n",
        "      <th>1 </th>\n",
        "      <td>              London Heathrow Airport</td>\n",
        "    </tr>\n",
        "    <tr>\n",
        "      <th>2 </th>\n",
        "      <td>        Orlando International Airport</td>\n",
        "    </tr>\n",
        "    <tr>\n",
        "      <th>3 </th>\n",
        "      <td>    Los Angeles International Airport</td>\n",
        "    </tr>\n",
        "    <tr>\n",
        "      <th>4 </th>\n",
        "      <td>      Mc Carran International Airport</td>\n",
        "    </tr>\n",
        "    <tr>\n",
        "      <th>5 </th>\n",
        "      <td> John F Kennedy International Airport</td>\n",
        "    </tr>\n",
        "    <tr>\n",
        "      <th>6 </th>\n",
        "      <td>            Paris - Charles-de-Gaulle</td>\n",
        "    </tr>\n",
        "    <tr>\n",
        "      <th>7 </th>\n",
        "      <td>                         Suvarnabhumi</td>\n",
        "    </tr>\n",
        "    <tr>\n",
        "      <th>8 </th>\n",
        "      <td>          Miami International Airport</td>\n",
        "    </tr>\n",
        "    <tr>\n",
        "      <th>9 </th>\n",
        "      <td>  San Francisco International Airport</td>\n",
        "    </tr>\n",
        "    <tr>\n",
        "      <th>10</th>\n",
        "      <td>          Dubai International Airport</td>\n",
        "    </tr>\n",
        "  </tbody>\n",
        "</table>\n",
        "<p>10 rows \u00d7 1 columns</p>\n",
        "</div>"
       ],
       "metadata": {},
       "output_type": "pyout",
       "prompt_number": 100,
       "text": [
        "                                    Name\n",
        "1                London Heathrow Airport\n",
        "2          Orlando International Airport\n",
        "3      Los Angeles International Airport\n",
        "4        Mc Carran International Airport\n",
        "5   John F Kennedy International Airport\n",
        "6              Paris - Charles-de-Gaulle\n",
        "7                           Suvarnabhumi\n",
        "8            Miami International Airport\n",
        "9    San Francisco International Airport\n",
        "10           Dubai International Airport\n",
        "\n",
        "[10 rows x 1 columns]"
       ]
      }
     ],
     "prompt_number": 100
    },
    {
     "cell_type": "code",
     "collapsed": false,
     "input": [
      "#IATA=Top10.index[1]\n",
      "#Pax=Top10.iloc[1,0]\n",
      "IATA=Top10.index\n",
      "Pax=Top10.iloc[1,0]"
     ],
     "language": "python",
     "metadata": {},
     "outputs": [],
     "prompt_number": 13
    },
    {
     "cell_type": "code",
     "collapsed": false,
     "input": [
      "IATA1=Top10.index[0]\n",
      "type(IATA1)\n",
      "IATA1[:3]\n",
      "geo_o.get(IATA1[:3], 'name')"
     ],
     "language": "python",
     "metadata": {},
     "outputs": [
      {
       "metadata": {},
       "output_type": "pyout",
       "prompt_number": 37,
       "text": [
        "'London Heathrow Airport'"
       ]
      }
     ],
     "prompt_number": 37
    },
    {
     "cell_type": "code",
     "collapsed": false,
     "input": [
      "IATA[1][:3]\n",
      "Top10.index[1][:3]"
     ],
     "language": "python",
     "metadata": {},
     "outputs": [
      {
       "metadata": {},
       "output_type": "pyout",
       "prompt_number": 42,
       "text": [
        "'MCO'"
       ]
      }
     ],
     "prompt_number": 42
    },
    {
     "cell_type": "code",
     "collapsed": false,
     "input": [],
     "language": "python",
     "metadata": {},
     "outputs": []
    }
   ],
   "metadata": {}
  }
 ]
}