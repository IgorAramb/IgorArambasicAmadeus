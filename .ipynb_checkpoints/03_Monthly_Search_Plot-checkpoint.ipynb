{
 "metadata": {
  "name": "",
  "signature": "sha256:4be2d31d9609808ba880cb983fe5b6a81384654065cde9eee92dfa666172b0d2"
 },
 "nbformat": 3,
 "nbformat_minor": 0,
 "worksheets": [
  {
   "cells": [
    {
     "cell_type": "code",
     "collapsed": false,
     "input": [
      "import pandas as pd\n",
      "import numpy as np\n",
      "\n",
      "BookFile='../Data/bookings.csv'\n",
      "SearchFile='../Data/searches.csv'"
     ],
     "language": "python",
     "metadata": {},
     "outputs": [],
     "prompt_number": 1
    },
    {
     "cell_type": "code",
     "collapsed": false,
     "input": [
      "#ReaderBookings = pd.read_csv(SearchFile, sep='^', iterator=True)\n",
      "#X=ReaderBookings.get_chunk(5)\n",
      "#X.info()\n"
     ],
     "language": "python",
     "metadata": {},
     "outputs": [],
     "prompt_number": 2
    },
    {
     "cell_type": "code",
     "collapsed": false,
     "input": [
      "#X.columns"
     ],
     "language": "python",
     "metadata": {},
     "outputs": [],
     "prompt_number": 3
    },
    {
     "cell_type": "markdown",
     "metadata": {},
     "source": [
      "Load Date and Destination Column"
     ]
    },
    {
     "cell_type": "code",
     "collapsed": false,
     "input": [
      "Searches = pd.read_csv(SearchFile, sep='^', usecols=['Date','Destination'])\n",
      "#Searches.head()"
     ],
     "language": "python",
     "metadata": {},
     "outputs": [],
     "prompt_number": 4
    },
    {
     "cell_type": "markdown",
     "metadata": {},
     "source": [
      "Make 3 separate tables for 3 cities"
     ]
    },
    {
     "cell_type": "code",
     "collapsed": false,
     "input": [
      "search_MAD=Searches[Searches['Destination']=='MAD']\n",
      "search_AGP=Searches[Searches['Destination']=='AGP']\n",
      "search_BCN=Searches[Searches['Destination']=='BCN']\n",
      "del search_MAD['Destination']\n",
      "del search_AGP['Destination']\n",
      "del search_BCN['Destination']\n",
      "#search_BCN.head()\n",
      "#search_BCN.tail()"
     ],
     "language": "python",
     "metadata": {},
     "outputs": [],
     "prompt_number": 23
    },
    {
     "cell_type": "markdown",
     "metadata": {},
     "source": [
      "Reset the index"
     ]
    },
    {
     "cell_type": "code",
     "collapsed": false,
     "input": [
      "search_MAD=search_MAD.reset_index()\n",
      "search_AGP=search_AGP.reset_index()\n",
      "search_BCN=search_BCN.reset_index()\n",
      "#search_MAD.ix[1,['Date']]"
     ],
     "language": "python",
     "metadata": {},
     "outputs": [],
     "prompt_number": 24
    },
    {
     "cell_type": "code",
     "collapsed": false,
     "input": [
      "del search_MAD['index']\n",
      "del search_AGP['index']\n",
      "del search_BCN['index']"
     ],
     "language": "python",
     "metadata": {},
     "outputs": [],
     "prompt_number": 25
    },
    {
     "cell_type": "markdown",
     "metadata": {},
     "source": [
      "Transform 'Date' into Pandas Date format"
     ]
    },
    {
     "cell_type": "code",
     "collapsed": false,
     "input": [
      "search_MAD['Date'] = pd.to_datetime(search_MAD['Date'])\n",
      "search_AGP['Date'] = pd.to_datetime(search_AGP['Date'])\n",
      "search_BCN['Date'] = pd.to_datetime(search_BCN['Date'])\n"
     ],
     "language": "python",
     "metadata": {},
     "outputs": [],
     "prompt_number": 26
    },
    {
     "cell_type": "markdown",
     "metadata": {},
     "source": [
      "Get month out of date and rename the column"
     ]
    },
    {
     "cell_type": "code",
     "collapsed": false,
     "input": [
      "search_MAD['Date']=search_MAD['Date'].map(lambda x: x.month)\n",
      "search_AGP['Date']=search_AGP['Date'].map(lambda x: x.month)\n",
      "search_BCN['Date']=search_BCN['Date'].map(lambda x: x.month)\n",
      "search_MAD.rename(columns={'Date':'Month'}, inplace=True)\n",
      "search_AGP.rename(columns={'Date':'Month'}, inplace=True)\n",
      "search_BCN.rename(columns={'Date':'Month'}, inplace=True)"
     ],
     "language": "python",
     "metadata": {},
     "outputs": [],
     "prompt_number": 27
    },
    {
     "cell_type": "code",
     "collapsed": false,
     "input": [
      "search_MAD.head()"
     ],
     "language": "python",
     "metadata": {},
     "outputs": [
      {
       "html": [
        "<div style=\"max-height:1000px;max-width:1500px;overflow:auto;\">\n",
        "<table border=\"1\" class=\"dataframe\">\n",
        "  <thead>\n",
        "    <tr style=\"text-align: right;\">\n",
        "      <th></th>\n",
        "      <th>Month</th>\n",
        "    </tr>\n",
        "  </thead>\n",
        "  <tbody>\n",
        "    <tr>\n",
        "      <th>0</th>\n",
        "      <td> 1</td>\n",
        "    </tr>\n",
        "    <tr>\n",
        "      <th>1</th>\n",
        "      <td> 1</td>\n",
        "    </tr>\n",
        "    <tr>\n",
        "      <th>2</th>\n",
        "      <td> 1</td>\n",
        "    </tr>\n",
        "    <tr>\n",
        "      <th>3</th>\n",
        "      <td> 1</td>\n",
        "    </tr>\n",
        "    <tr>\n",
        "      <th>4</th>\n",
        "      <td> 1</td>\n",
        "    </tr>\n",
        "  </tbody>\n",
        "</table>\n",
        "<p>5 rows \u00d7 1 columns</p>\n",
        "</div>"
       ],
       "metadata": {},
       "output_type": "pyout",
       "prompt_number": 31,
       "text": [
        "   Month\n",
        "0      1\n",
        "1      1\n",
        "2      1\n",
        "3      1\n",
        "4      1\n",
        "\n",
        "[5 rows x 1 columns]"
       ]
      }
     ],
     "prompt_number": 31
    },
    {
     "cell_type": "code",
     "collapsed": false,
     "input": [
      "search_MAD.tail()"
     ],
     "language": "python",
     "metadata": {},
     "outputs": [
      {
       "html": [
        "<div style=\"max-height:1000px;max-width:1500px;overflow:auto;\">\n",
        "<table border=\"1\" class=\"dataframe\">\n",
        "  <thead>\n",
        "    <tr style=\"text-align: right;\">\n",
        "      <th></th>\n",
        "      <th>Month</th>\n",
        "    </tr>\n",
        "  </thead>\n",
        "  <tbody>\n",
        "    <tr>\n",
        "      <th>269138</th>\n",
        "      <td> 10</td>\n",
        "    </tr>\n",
        "    <tr>\n",
        "      <th>269139</th>\n",
        "      <td> 10</td>\n",
        "    </tr>\n",
        "    <tr>\n",
        "      <th>269140</th>\n",
        "      <td> 10</td>\n",
        "    </tr>\n",
        "    <tr>\n",
        "      <th>269141</th>\n",
        "      <td> 10</td>\n",
        "    </tr>\n",
        "    <tr>\n",
        "      <th>269142</th>\n",
        "      <td> 10</td>\n",
        "    </tr>\n",
        "  </tbody>\n",
        "</table>\n",
        "<p>5 rows \u00d7 1 columns</p>\n",
        "</div>"
       ],
       "metadata": {},
       "output_type": "pyout",
       "prompt_number": 33,
       "text": [
        "        Month\n",
        "269138     10\n",
        "269139     10\n",
        "269140     10\n",
        "269141     10\n",
        "269142     10\n",
        "\n",
        "[5 rows x 1 columns]"
       ]
      }
     ],
     "prompt_number": 33
    },
    {
     "cell_type": "code",
     "collapsed": false,
     "input": [],
     "language": "python",
     "metadata": {},
     "outputs": []
    }
   ],
   "metadata": {}
  }
 ]
}