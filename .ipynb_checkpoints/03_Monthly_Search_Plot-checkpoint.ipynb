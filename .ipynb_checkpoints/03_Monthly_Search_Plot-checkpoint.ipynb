{
 "metadata": {
  "name": "",
  "signature": "sha256:d3933805a8a8397f490f141afb8ffaa02d6ae715237e2158e0f2d4474b3c1b4d"
 },
 "nbformat": 3,
 "nbformat_minor": 0,
 "worksheets": [
  {
   "cells": [
    {
     "cell_type": "code",
     "collapsed": false,
     "input": [
      "import pandas as pd\n",
      "import numpy as np\n",
      "\n",
      "BookFile='../Data/bookings.csv'\n",
      "SearchFile='../Data/searches.csv'"
     ],
     "language": "python",
     "metadata": {},
     "outputs": [],
     "prompt_number": 1
    },
    {
     "cell_type": "code",
     "collapsed": false,
     "input": [
      "#ReaderBookings = pd.read_csv(SearchFile, sep='^', iterator=True)\n",
      "#X=ReaderBookings.get_chunk(5)\n",
      "#X.info()\n"
     ],
     "language": "python",
     "metadata": {},
     "outputs": [],
     "prompt_number": 2
    },
    {
     "cell_type": "code",
     "collapsed": false,
     "input": [
      "#X.columns"
     ],
     "language": "python",
     "metadata": {},
     "outputs": [],
     "prompt_number": 3
    },
    {
     "cell_type": "markdown",
     "metadata": {},
     "source": [
      "Load Date and Destination Column"
     ]
    },
    {
     "cell_type": "code",
     "collapsed": false,
     "input": [
      "Searches = pd.read_csv(SearchFile, sep='^', usecols=['Date','Destination'])\n",
      "#Searches.head()"
     ],
     "language": "python",
     "metadata": {},
     "outputs": [],
     "prompt_number": 4
    },
    {
     "cell_type": "markdown",
     "metadata": {},
     "source": [
      "Make 3 separate tables for 3 cities"
     ]
    },
    {
     "cell_type": "code",
     "collapsed": false,
     "input": [
      "search_MAD=Searches[Searches['Destination']=='MAD']\n",
      "search_AGP=Searches[Searches['Destination']=='AGP']\n",
      "search_BCN=Searches[Searches['Destination']=='BCN']\n",
      "del search_MAD['Destination']\n",
      "del search_AGP['Destination']\n",
      "del search_BCN['Destination']\n",
      "#search_BCN.head()\n",
      "#search_BCN.tail()"
     ],
     "language": "python",
     "metadata": {},
     "outputs": [],
     "prompt_number": 5
    },
    {
     "cell_type": "markdown",
     "metadata": {},
     "source": [
      "Reset the index"
     ]
    },
    {
     "cell_type": "code",
     "collapsed": false,
     "input": [
      "search_MAD.reset_index(inplace=True)\n",
      "search_AGP.reset_index(inplace=True)\n",
      "search_BCN.reset_index(inplace=True)\n",
      "#search_MAD.ix[1,['Date']]"
     ],
     "language": "python",
     "metadata": {},
     "outputs": [],
     "prompt_number": 6
    },
    {
     "cell_type": "code",
     "collapsed": false,
     "input": [
      "del search_MAD['index']\n",
      "del search_AGP['index']\n",
      "del search_BCN['index']"
     ],
     "language": "python",
     "metadata": {},
     "outputs": [],
     "prompt_number": 7
    },
    {
     "cell_type": "markdown",
     "metadata": {},
     "source": [
      "Transform 'Date' into Pandas Date format"
     ]
    },
    {
     "cell_type": "code",
     "collapsed": false,
     "input": [
      "search_MAD['Date'] = pd.to_datetime(search_MAD['Date'])\n",
      "search_AGP['Date'] = pd.to_datetime(search_AGP['Date'])\n",
      "search_BCN['Date'] = pd.to_datetime(search_BCN['Date'])\n"
     ],
     "language": "python",
     "metadata": {},
     "outputs": [],
     "prompt_number": 8
    },
    {
     "cell_type": "markdown",
     "metadata": {},
     "source": [
      "Get month out of date and rename the column"
     ]
    },
    {
     "cell_type": "code",
     "collapsed": false,
     "input": [
      "search_MAD['Date']=search_MAD['Date'].map(lambda x: x.month)\n",
      "search_AGP['Date']=search_AGP['Date'].map(lambda x: x.month)\n",
      "search_BCN['Date']=search_BCN['Date'].map(lambda x: x.month)\n",
      "search_MAD.rename(columns={'Date':'Month'}, inplace=True)\n",
      "search_AGP.rename(columns={'Date':'Month'}, inplace=True)\n",
      "search_BCN.rename(columns={'Date':'Month'}, inplace=True)"
     ],
     "language": "python",
     "metadata": {},
     "outputs": [],
     "prompt_number": 9
    },
    {
     "cell_type": "markdown",
     "metadata": {},
     "source": [
      "Create new column with all elements set to 1"
     ]
    },
    {
     "cell_type": "code",
     "collapsed": false,
     "input": [
      "search_MAD['Search']=1\n",
      "search_AGP['Search']=1\n",
      "search_BCN['Search']=1"
     ],
     "language": "python",
     "metadata": {},
     "outputs": [],
     "prompt_number": 10
    },
    {
     "cell_type": "markdown",
     "metadata": {},
     "source": [
      "Group by Month, sum the searches, reset the index"
     ]
    },
    {
     "cell_type": "code",
     "collapsed": false,
     "input": [
      "MonthSearchMAD=search_MAD.groupby(['Month']).sum()\n",
      "MonthSearchAGP=search_AGP.groupby(['Month']).sum()\n",
      "MonthSearchBCN=search_BCN.groupby(['Month']).sum()\n",
      "MonthSearchMAD.reset_index(inplace=True)\n",
      "MonthSearchAGP.reset_index(inplace=True)\n",
      "MonthSearchBCN.reset_index(inplace=True)"
     ],
     "language": "python",
     "metadata": {},
     "outputs": [],
     "prompt_number": 15
    },
    {
     "cell_type": "code",
     "collapsed": false,
     "input": [
      "MonthSearchBCN"
     ],
     "language": "python",
     "metadata": {},
     "outputs": [
      {
       "html": [
        "<div style=\"max-height:1000px;max-width:1500px;overflow:auto;\">\n",
        "<table border=\"1\" class=\"dataframe\">\n",
        "  <thead>\n",
        "    <tr style=\"text-align: right;\">\n",
        "      <th></th>\n",
        "      <th>Month</th>\n",
        "      <th>Search</th>\n",
        "    </tr>\n",
        "  </thead>\n",
        "  <tbody>\n",
        "    <tr>\n",
        "      <th>0 </th>\n",
        "      <td>  1</td>\n",
        "      <td> 29469</td>\n",
        "    </tr>\n",
        "    <tr>\n",
        "      <th>1 </th>\n",
        "      <td>  2</td>\n",
        "      <td> 28329</td>\n",
        "    </tr>\n",
        "    <tr>\n",
        "      <th>2 </th>\n",
        "      <td>  3</td>\n",
        "      <td> 30552</td>\n",
        "    </tr>\n",
        "    <tr>\n",
        "      <th>3 </th>\n",
        "      <td>  4</td>\n",
        "      <td> 31236</td>\n",
        "    </tr>\n",
        "    <tr>\n",
        "      <th>4 </th>\n",
        "      <td>  5</td>\n",
        "      <td> 28728</td>\n",
        "    </tr>\n",
        "    <tr>\n",
        "      <th>5 </th>\n",
        "      <td>  6</td>\n",
        "      <td> 26505</td>\n",
        "    </tr>\n",
        "    <tr>\n",
        "      <th>6 </th>\n",
        "      <td>  7</td>\n",
        "      <td> 29241</td>\n",
        "    </tr>\n",
        "    <tr>\n",
        "      <th>7 </th>\n",
        "      <td>  8</td>\n",
        "      <td> 27075</td>\n",
        "    </tr>\n",
        "    <tr>\n",
        "      <th>8 </th>\n",
        "      <td>  9</td>\n",
        "      <td> 23427</td>\n",
        "    </tr>\n",
        "    <tr>\n",
        "      <th>9 </th>\n",
        "      <td> 10</td>\n",
        "      <td> 20276</td>\n",
        "    </tr>\n",
        "    <tr>\n",
        "      <th>10</th>\n",
        "      <td> 11</td>\n",
        "      <td> 19824</td>\n",
        "    </tr>\n",
        "    <tr>\n",
        "      <th>11</th>\n",
        "      <td> 12</td>\n",
        "      <td> 15400</td>\n",
        "    </tr>\n",
        "  </tbody>\n",
        "</table>\n",
        "<p>12 rows \u00d7 2 columns</p>\n",
        "</div>"
       ],
       "metadata": {},
       "output_type": "pyout",
       "prompt_number": 16,
       "text": [
        "    Month  Search\n",
        "0       1   29469\n",
        "1       2   28329\n",
        "2       3   30552\n",
        "3       4   31236\n",
        "4       5   28728\n",
        "5       6   26505\n",
        "6       7   29241\n",
        "7       8   27075\n",
        "8       9   23427\n",
        "9      10   20276\n",
        "10     11   19824\n",
        "11     12   15400\n",
        "\n",
        "[12 rows x 2 columns]"
       ]
      }
     ],
     "prompt_number": 16
    },
    {
     "cell_type": "code",
     "collapsed": false,
     "input": [],
     "language": "python",
     "metadata": {},
     "outputs": []
    }
   ],
   "metadata": {}
  }
 ]
}