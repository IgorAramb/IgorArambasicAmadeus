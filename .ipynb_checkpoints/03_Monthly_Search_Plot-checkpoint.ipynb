{
 "metadata": {
  "name": "",
  "signature": "sha256:5ceb10a0a08a27d7294e3fee829a00020a4d9b500d8251407f6626ba573ab408"
 },
 "nbformat": 3,
 "nbformat_minor": 0,
 "worksheets": [
  {
   "cells": [
    {
     "cell_type": "code",
     "collapsed": false,
     "input": [
      "import pandas as pd\n",
      "import numpy as np\n",
      "\n",
      "BookFile='../Data/bookings.csv'\n",
      "SearchFile='../Data/searches.csv'"
     ],
     "language": "python",
     "metadata": {},
     "outputs": [],
     "prompt_number": 1
    },
    {
     "cell_type": "code",
     "collapsed": false,
     "input": [
      "#ReaderBookings = pd.read_csv(SearchFile, sep='^', iterator=True)\n",
      "#X=ReaderBookings.get_chunk(5)\n",
      "#X.info()\n"
     ],
     "language": "python",
     "metadata": {},
     "outputs": [],
     "prompt_number": 2
    },
    {
     "cell_type": "code",
     "collapsed": false,
     "input": [
      "#X.columns"
     ],
     "language": "python",
     "metadata": {},
     "outputs": [],
     "prompt_number": 3
    },
    {
     "cell_type": "code",
     "collapsed": false,
     "input": [
      "Searches = pd.read_csv(SearchFile, sep='^', usecols=['Date','Destination'])\n",
      "#Searches.head()"
     ],
     "language": "python",
     "metadata": {},
     "outputs": [
      {
       "html": [
        "<div style=\"max-height:1000px;max-width:1500px;overflow:auto;\">\n",
        "<table border=\"1\" class=\"dataframe\">\n",
        "  <thead>\n",
        "    <tr style=\"text-align: right;\">\n",
        "      <th></th>\n",
        "      <th>Date</th>\n",
        "      <th>Destination</th>\n",
        "    </tr>\n",
        "  </thead>\n",
        "  <tbody>\n",
        "    <tr>\n",
        "      <th>0</th>\n",
        "      <td> 2013-01-01</td>\n",
        "      <td> AUH</td>\n",
        "    </tr>\n",
        "    <tr>\n",
        "      <th>1</th>\n",
        "      <td> 2013-01-01</td>\n",
        "      <td> MIL</td>\n",
        "    </tr>\n",
        "    <tr>\n",
        "      <th>2</th>\n",
        "      <td> 2013-01-01</td>\n",
        "      <td> SFO</td>\n",
        "    </tr>\n",
        "    <tr>\n",
        "      <th>3</th>\n",
        "      <td> 2013-01-01</td>\n",
        "      <td> ARN</td>\n",
        "    </tr>\n",
        "    <tr>\n",
        "      <th>4</th>\n",
        "      <td> 2013-01-01</td>\n",
        "      <td> MAD</td>\n",
        "    </tr>\n",
        "  </tbody>\n",
        "</table>\n",
        "<p>5 rows \u00d7 2 columns</p>\n",
        "</div>"
       ],
       "metadata": {},
       "output_type": "pyout",
       "prompt_number": 4,
       "text": [
        "         Date Destination\n",
        "0  2013-01-01         AUH\n",
        "1  2013-01-01         MIL\n",
        "2  2013-01-01         SFO\n",
        "3  2013-01-01         ARN\n",
        "4  2013-01-01         MAD\n",
        "\n",
        "[5 rows x 2 columns]"
       ]
      }
     ],
     "prompt_number": 4
    },
    {
     "cell_type": "code",
     "collapsed": false,
     "input": [
      "search_MAD=Searches[Searches['Destination']=='MAD']\n",
      "search_AGP=Searches[Searches['Destination']=='AGP']\n",
      "search_BCN=Searches[Searches['Destination']=='BCN']\n",
      "del search_MAD['Destination']\n",
      "del search_AGP['Destination']\n",
      "del search_BCN['Destination']\n",
      "#search_BCN.head()\n",
      "#search_BCN.tail()"
     ],
     "language": "python",
     "metadata": {},
     "outputs": [],
     "prompt_number": 5
    },
    {
     "cell_type": "code",
     "collapsed": false,
     "input": [],
     "language": "python",
     "metadata": {},
     "outputs": []
    }
   ],
   "metadata": {}
  }
 ]
}