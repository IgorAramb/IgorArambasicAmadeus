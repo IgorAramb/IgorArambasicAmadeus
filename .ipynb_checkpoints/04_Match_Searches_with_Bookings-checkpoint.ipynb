{
 "metadata": {
  "name": "",
  "signature": "sha256:1e60d8754cd61ad4a11488b7120523fb74161a14f695dfab1f4908dec4c3c144"
 },
 "nbformat": 3,
 "nbformat_minor": 0,
 "worksheets": [
  {
   "cells": [
    {
     "cell_type": "code",
     "collapsed": false,
     "input": [
      "import pandas as pd\n",
      "import numpy as np\n",
      "from pandas import Series\n",
      "\n",
      "BookFile='../Data/bookings.csv'\n",
      "SearchFile='../Data/searches.csv'"
     ],
     "language": "python",
     "metadata": {},
     "outputs": [],
     "prompt_number": 1
    },
    {
     "cell_type": "code",
     "collapsed": false,
     "input": [
      "#ReaderBookings = pd.read_csv(BookFile, sep='^', iterator=True)\n",
      "#X=ReaderBookings.get_chunk(5)\n",
      "#X.info()"
     ],
     "language": "python",
     "metadata": {},
     "outputs": [],
     "prompt_number": 2
    },
    {
     "cell_type": "code",
     "collapsed": false,
     "input": [
      "#X.columns"
     ],
     "language": "python",
     "metadata": {},
     "outputs": [],
     "prompt_number": 3
    },
    {
     "cell_type": "code",
     "collapsed": false,
     "input": [
      "#ReaderSearch = pd.read_csv(SearchFile, sep='^', iterator=True)\n",
      "#Y=ReaderSearch.get_chunk(5)\n",
      "#Y.info()"
     ],
     "language": "python",
     "metadata": {},
     "outputs": [],
     "prompt_number": 4
    },
    {
     "cell_type": "code",
     "collapsed": false,
     "input": [
      "#Y.columns"
     ],
     "language": "python",
     "metadata": {},
     "outputs": [],
     "prompt_number": 5
    },
    {
     "cell_type": "code",
     "collapsed": false,
     "input": [
      "Searches = pd.read_csv(SearchFile, sep='^', usecols=['Date','Time', 'Origin','Destination'])#, nrows=,\n",
      "#len(Searches)"
     ],
     "language": "python",
     "metadata": {},
     "outputs": [],
     "prompt_number": 6
    },
    {
     "cell_type": "code",
     "collapsed": false,
     "input": [
      "Bookings = pd.read_csv(BookFile, sep='^', usecols=['act_date           ', 'dep_port', 'arr_port'])#'cre_date           '\n",
      "#len(Bookings)"
     ],
     "language": "python",
     "metadata": {},
     "outputs": [],
     "prompt_number": 7
    },
    {
     "cell_type": "markdown",
     "metadata": {},
     "source": [
      "Remove NaN"
     ]
    },
    {
     "cell_type": "code",
     "collapsed": false,
     "input": [
      "Searches=Searches.dropna()\n",
      "Bookings=Bookings.dropna()\n",
      "#len(Searches),len(Bookings)"
     ],
     "language": "python",
     "metadata": {},
     "outputs": [],
     "prompt_number": 8
    },
    {
     "cell_type": "markdown",
     "metadata": {},
     "source": [
      "Transform 'Date' into Pandas Date format.\n",
      "\n",
      "By default to_datetime() fails silently if there is an issue and returns what was originally passed. Hence the call is made with errors='raise' option, in order to see if the error occurs."
     ]
    },
    {
     "cell_type": "code",
     "collapsed": false,
     "input": [
      "Searches['DatePandas'] = pd.to_datetime(Searches['Date'],errors='raise')\n",
      "Bookings['DatePandas'] = pd.to_datetime(Bookings['act_date           '],errors='raise')\n",
      "#Searches['DatePandas'][1],Bookings['DatePandas'][1]"
     ],
     "language": "python",
     "metadata": {},
     "outputs": [],
     "prompt_number": 9
    },
    {
     "cell_type": "markdown",
     "metadata": {},
     "source": [
      "Airport codes inside Bookings file have space after the IATA code which has to be removed. The correct format is put into 'Origin' and 'Destination' columns, while 'dep_port' and 'arr_port' columns are removed."
     ]
    },
    {
     "cell_type": "code",
     "collapsed": false,
     "input": [
      "Bookings['Origin'] = Bookings['dep_port'].map(str.strip)\n",
      "Bookings['Destination'] = Bookings['arr_port'].map(str.strip)\n",
      "del Bookings['dep_port']\n",
      "del Bookings['arr_port']\n",
      "Bookings.head()"
     ],
     "language": "python",
     "metadata": {},
     "outputs": [
      {
       "html": [
        "<div style=\"max-height:1000px;max-width:1500px;overflow:auto;\">\n",
        "<table border=\"1\" class=\"dataframe\">\n",
        "  <thead>\n",
        "    <tr style=\"text-align: right;\">\n",
        "      <th></th>\n",
        "      <th>act_date           </th>\n",
        "      <th>DatePandas</th>\n",
        "      <th>Origin</th>\n",
        "      <th>Destination</th>\n",
        "    </tr>\n",
        "  </thead>\n",
        "  <tbody>\n",
        "    <tr>\n",
        "      <th>0</th>\n",
        "      <td> 2013-03-05 00:00:00</td>\n",
        "      <td>2013-03-05</td>\n",
        "      <td> ZRH</td>\n",
        "      <td> LHR</td>\n",
        "    </tr>\n",
        "    <tr>\n",
        "      <th>1</th>\n",
        "      <td> 2013-03-26 00:00:00</td>\n",
        "      <td>2013-03-26</td>\n",
        "      <td> SAL</td>\n",
        "      <td> CLT</td>\n",
        "    </tr>\n",
        "    <tr>\n",
        "      <th>2</th>\n",
        "      <td> 2013-03-26 00:00:00</td>\n",
        "      <td>2013-03-26</td>\n",
        "      <td> SAL</td>\n",
        "      <td> CLT</td>\n",
        "    </tr>\n",
        "    <tr>\n",
        "      <th>3</th>\n",
        "      <td> 2013-03-26 00:00:00</td>\n",
        "      <td>2013-03-26</td>\n",
        "      <td> AKL</td>\n",
        "      <td> SVO</td>\n",
        "    </tr>\n",
        "    <tr>\n",
        "      <th>4</th>\n",
        "      <td> 2013-03-26 00:00:00</td>\n",
        "      <td>2013-03-26</td>\n",
        "      <td> AKL</td>\n",
        "      <td> SVO</td>\n",
        "    </tr>\n",
        "  </tbody>\n",
        "</table>\n",
        "<p>5 rows \u00d7 4 columns</p>\n",
        "</div>"
       ],
       "metadata": {},
       "output_type": "pyout",
       "prompt_number": 10,
       "text": [
        "   act_date            DatePandas Origin Destination\n",
        "0  2013-03-05 00:00:00 2013-03-05    ZRH         LHR\n",
        "1  2013-03-26 00:00:00 2013-03-26    SAL         CLT\n",
        "2  2013-03-26 00:00:00 2013-03-26    SAL         CLT\n",
        "3  2013-03-26 00:00:00 2013-03-26    AKL         SVO\n",
        "4  2013-03-26 00:00:00 2013-03-26    AKL         SVO\n",
        "\n",
        "[5 rows x 4 columns]"
       ]
      }
     ],
     "prompt_number": 10
    },
    {
     "cell_type": "code",
     "collapsed": false,
     "input": [],
     "language": "python",
     "metadata": {},
     "outputs": []
    }
   ],
   "metadata": {}
  }
 ]
}