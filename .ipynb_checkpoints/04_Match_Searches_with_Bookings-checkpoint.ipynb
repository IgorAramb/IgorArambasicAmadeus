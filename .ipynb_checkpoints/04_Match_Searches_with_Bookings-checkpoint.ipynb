{
 "metadata": {
  "name": "",
  "signature": "sha256:607e5f7b03ec598184a67ff312139880741285c7265bb33b16bb28a1a97e8d64"
 },
 "nbformat": 3,
 "nbformat_minor": 0,
 "worksheets": [
  {
   "cells": [
    {
     "cell_type": "code",
     "collapsed": false,
     "input": [
      "import pandas as pd\n",
      "import numpy as np\n",
      "import matplotlib.pyplot as plt\n",
      "\n",
      "BookFile='../Data/bookings.csv'\n",
      "SearchFile='../Data/searches.csv'"
     ],
     "language": "python",
     "metadata": {},
     "outputs": [],
     "prompt_number": 1
    },
    {
     "cell_type": "code",
     "collapsed": false,
     "input": [
      "ReaderBookings = pd.read_csv(BookFile, sep='^', iterator=True)\n",
      "X=ReaderBookings.get_chunk(5)\n",
      "X.info()\n",
      "\n"
     ],
     "language": "python",
     "metadata": {},
     "outputs": [
      {
       "output_type": "stream",
       "stream": "stdout",
       "text": [
        "<class 'pandas.core.frame.DataFrame'>\n",
        "Int64Index: 5 entries, 0 to 4\n",
        "Data columns (total 38 columns):\n",
        "act_date               5 non-null object\n",
        "source                 5 non-null object\n",
        "pos_ctry               5 non-null object\n",
        "pos_iata               5 non-null object\n",
        "pos_oid                5 non-null object\n",
        "rloc                   5 non-null object\n",
        "cre_date               5 non-null object\n",
        "duration               5 non-null int64\n",
        "distance               5 non-null int64\n",
        "dep_port               5 non-null object\n",
        "dep_city               5 non-null object\n",
        "dep_ctry               5 non-null object\n",
        "arr_port               5 non-null object\n",
        "arr_city               5 non-null object\n",
        "arr_ctry               5 non-null object\n",
        "lst_port               5 non-null object\n",
        "lst_city               5 non-null object\n",
        "lst_ctry               5 non-null object\n",
        "brd_port               5 non-null object\n",
        "brd_city               5 non-null object\n",
        "brd_ctry               5 non-null object\n",
        "off_port               5 non-null object\n",
        "off_city               5 non-null object\n",
        "off_ctry               5 non-null object\n",
        "mkt_port               5 non-null object\n",
        "mkt_city               5 non-null object\n",
        "mkt_ctry               5 non-null object\n",
        "intl                   5 non-null int64\n",
        "route                  5 non-null object\n",
        "carrier                5 non-null object\n",
        "bkg_class              5 non-null object\n",
        "cab_class              5 non-null object\n",
        "brd_time               5 non-null object\n",
        "off_time               5 non-null object\n",
        "pax                    5 non-null int64\n",
        "year                   5 non-null int64\n",
        "month                  5 non-null int64\n",
        "oid                    5 non-null object\n",
        "dtypes: int64(6), object(32)"
       ]
      }
     ],
     "prompt_number": 2
    },
    {
     "cell_type": "code",
     "collapsed": false,
     "input": [
      "X.columns"
     ],
     "language": "python",
     "metadata": {},
     "outputs": [
      {
       "metadata": {},
       "output_type": "pyout",
       "prompt_number": 3,
       "text": [
        "Index([u'act_date           ', u'source', u'pos_ctry', u'pos_iata', u'pos_oid  ', u'rloc          ', u'cre_date           ', u'duration', u'distance', u'dep_port', u'dep_city', u'dep_ctry', u'arr_port', u'arr_city', u'arr_ctry', u'lst_port', u'lst_city', u'lst_ctry', u'brd_port', u'brd_city', u'brd_ctry', u'off_port', u'off_city', u'off_ctry', u'mkt_port', u'mkt_city', u'mkt_ctry', u'intl', u'route          ', u'carrier', u'bkg_class', u'cab_class', u'brd_time           ', u'off_time           ', u'pax', u'year', u'month', u'oid      '], dtype='object')"
       ]
      }
     ],
     "prompt_number": 3
    },
    {
     "cell_type": "code",
     "collapsed": false,
     "input": [
      "ReaderSearch = pd.read_csv(SearchFile, sep='^', iterator=True)\n",
      "Y=ReaderSearch.get_chunk(5)\n",
      "Y.info()\n"
     ],
     "language": "python",
     "metadata": {},
     "outputs": [
      {
       "output_type": "stream",
       "stream": "stdout",
       "text": [
        "<class 'pandas.core.frame.DataFrame'>\n",
        "Int64Index: 5 entries, 0 to 4\n",
        "Data columns (total 45 columns):\n",
        "Date                 5 non-null object\n",
        "Time                 5 non-null object\n",
        "TxnCode              5 non-null object\n",
        "OfficeID             5 non-null object\n",
        "Country              5 non-null object\n",
        "Origin               5 non-null object\n",
        "Destination          5 non-null object\n",
        "RoundTrip            5 non-null int64\n",
        "NbSegments           5 non-null int64\n",
        "Seg1Departure        5 non-null object\n",
        "Seg1Arrival          5 non-null object\n",
        "Seg1Date             5 non-null object\n",
        "Seg1Carrier          2 non-null object\n",
        "Seg1BookingCode      1 non-null object\n",
        "Seg2Departure        3 non-null object\n",
        "Seg2Arrival          3 non-null object\n",
        "Seg2Date             3 non-null object\n",
        "Seg2Carrier          1 non-null object\n",
        "Seg2BookingCode      0 non-null float64\n",
        "Seg3Departure        0 non-null float64\n",
        "Seg3Arrival          0 non-null float64\n",
        "Seg3Date             0 non-null float64\n",
        "Seg3Carrier          0 non-null float64\n",
        "Seg3BookingCode      0 non-null float64\n",
        "Seg4Departure        0 non-null float64\n",
        "Seg4Arrival          0 non-null float64\n",
        "Seg4Date             0 non-null float64\n",
        "Seg4Carrier          0 non-null float64\n",
        "Seg4BookingCode      0 non-null float64\n",
        "Seg5Departure        0 non-null float64\n",
        "Seg5Arrival          0 non-null float64\n",
        "Seg5Date             0 non-null float64\n",
        "Seg5Carrier          0 non-null float64\n",
        "Seg5BookingCode      0 non-null float64\n",
        "Seg6Departure        0 non-null float64\n",
        "Seg6Arrival          0 non-null float64\n",
        "Seg6Date             0 non-null float64\n",
        "Seg6Carrier          0 non-null float64\n",
        "Seg6BookingCode      0 non-null float64\n",
        "From                 5 non-null object\n",
        "IsPublishedForNeg    5 non-null int64\n",
        "IsFromInternet       5 non-null int64\n",
        "IsFromVista          5 non-null int64\n",
        "TerminalID           5 non-null object\n",
        "InternetOffice       5 non-null object\n",
        "dtypes: float64(21), int64(5), object(19)"
       ]
      }
     ],
     "prompt_number": 4
    },
    {
     "cell_type": "code",
     "collapsed": false,
     "input": [
      "Y.columns"
     ],
     "language": "python",
     "metadata": {},
     "outputs": [
      {
       "metadata": {},
       "output_type": "pyout",
       "prompt_number": 5,
       "text": [
        "Index([u'Date', u'Time', u'TxnCode', u'OfficeID', u'Country', u'Origin', u'Destination', u'RoundTrip', u'NbSegments', u'Seg1Departure', u'Seg1Arrival', u'Seg1Date', u'Seg1Carrier', u'Seg1BookingCode', u'Seg2Departure', u'Seg2Arrival', u'Seg2Date', u'Seg2Carrier', u'Seg2BookingCode', u'Seg3Departure', u'Seg3Arrival', u'Seg3Date', u'Seg3Carrier', u'Seg3BookingCode', u'Seg4Departure', u'Seg4Arrival', u'Seg4Date', u'Seg4Carrier', u'Seg4BookingCode', u'Seg5Departure', u'Seg5Arrival', u'Seg5Date', u'Seg5Carrier', u'Seg5BookingCode', u'Seg6Departure', u'Seg6Arrival', u'Seg6Date', u'Seg6Carrier', u'Seg6BookingCode', u'From', u'IsPublishedForNeg', u'IsFromInternet', u'IsFromVista', u'TerminalID', u'InternetOffice'], dtype='object')"
       ]
      }
     ],
     "prompt_number": 5
    },
    {
     "cell_type": "code",
     "collapsed": false,
     "input": [
      "Searches = pd.read_csv(SearchFile, sep='^', usecols=['Date','Time','Origin','Destination'])\n",
      "#Searches.head()"
     ],
     "language": "python",
     "metadata": {},
     "outputs": [],
     "prompt_number": 6
    },
    {
     "cell_type": "code",
     "collapsed": false,
     "input": [
      "Searches.head()"
     ],
     "language": "python",
     "metadata": {},
     "outputs": [
      {
       "html": [
        "<div style=\"max-height:1000px;max-width:1500px;overflow:auto;\">\n",
        "<table border=\"1\" class=\"dataframe\">\n",
        "  <thead>\n",
        "    <tr style=\"text-align: right;\">\n",
        "      <th></th>\n",
        "      <th>Date</th>\n",
        "      <th>Time</th>\n",
        "      <th>Origin</th>\n",
        "      <th>Destination</th>\n",
        "    </tr>\n",
        "  </thead>\n",
        "  <tbody>\n",
        "    <tr>\n",
        "      <th>0</th>\n",
        "      <td> 2013-01-01</td>\n",
        "      <td> 20:25:57</td>\n",
        "      <td> TXL</td>\n",
        "      <td> AUH</td>\n",
        "    </tr>\n",
        "    <tr>\n",
        "      <th>1</th>\n",
        "      <td> 2013-01-01</td>\n",
        "      <td> 10:15:33</td>\n",
        "      <td> ATH</td>\n",
        "      <td> MIL</td>\n",
        "    </tr>\n",
        "    <tr>\n",
        "      <th>2</th>\n",
        "      <td> 2013-01-01</td>\n",
        "      <td> 18:04:49</td>\n",
        "      <td> ICT</td>\n",
        "      <td> SFO</td>\n",
        "    </tr>\n",
        "    <tr>\n",
        "      <th>3</th>\n",
        "      <td> 2013-01-01</td>\n",
        "      <td> 17:42:40</td>\n",
        "      <td> RNB</td>\n",
        "      <td> ARN</td>\n",
        "    </tr>\n",
        "    <tr>\n",
        "      <th>4</th>\n",
        "      <td> 2013-01-01</td>\n",
        "      <td> 17:48:29</td>\n",
        "      <td> OSL</td>\n",
        "      <td> MAD</td>\n",
        "    </tr>\n",
        "  </tbody>\n",
        "</table>\n",
        "<p>5 rows \u00d7 4 columns</p>\n",
        "</div>"
       ],
       "metadata": {},
       "output_type": "pyout",
       "prompt_number": 7,
       "text": [
        "         Date      Time Origin Destination\n",
        "0  2013-01-01  20:25:57    TXL         AUH\n",
        "1  2013-01-01  10:15:33    ATH         MIL\n",
        "2  2013-01-01  18:04:49    ICT         SFO\n",
        "3  2013-01-01  17:42:40    RNB         ARN\n",
        "4  2013-01-01  17:48:29    OSL         MAD\n",
        "\n",
        "[5 rows x 4 columns]"
       ]
      }
     ],
     "prompt_number": 7
    },
    {
     "cell_type": "code",
     "collapsed": false,
     "input": [
      "Bookings = pd.read_csv(BookFile, sep='^', usecols=['act_date           ','cre_date           ', 'month', 'dep_port', 'arr_port'])\n",
      "\n"
     ],
     "language": "python",
     "metadata": {},
     "outputs": [],
     "prompt_number": 8
    },
    {
     "cell_type": "code",
     "collapsed": false,
     "input": [
      "Bookings.head()"
     ],
     "language": "python",
     "metadata": {},
     "outputs": [
      {
       "html": [
        "<div style=\"max-height:1000px;max-width:1500px;overflow:auto;\">\n",
        "<table border=\"1\" class=\"dataframe\">\n",
        "  <thead>\n",
        "    <tr style=\"text-align: right;\">\n",
        "      <th></th>\n",
        "      <th>act_date           </th>\n",
        "      <th>cre_date           </th>\n",
        "      <th>dep_port</th>\n",
        "      <th>arr_port</th>\n",
        "      <th>month</th>\n",
        "    </tr>\n",
        "  </thead>\n",
        "  <tbody>\n",
        "    <tr>\n",
        "      <th>0</th>\n",
        "      <td> 2013-03-05 00:00:00</td>\n",
        "      <td> 2013-02-22 00:00:00</td>\n",
        "      <td> ZRH     </td>\n",
        "      <td> LHR     </td>\n",
        "      <td> 3</td>\n",
        "    </tr>\n",
        "    <tr>\n",
        "      <th>1</th>\n",
        "      <td> 2013-03-26 00:00:00</td>\n",
        "      <td> 2013-03-26 00:00:00</td>\n",
        "      <td> SAL     </td>\n",
        "      <td> CLT     </td>\n",
        "      <td> 3</td>\n",
        "    </tr>\n",
        "    <tr>\n",
        "      <th>2</th>\n",
        "      <td> 2013-03-26 00:00:00</td>\n",
        "      <td> 2013-03-26 00:00:00</td>\n",
        "      <td> SAL     </td>\n",
        "      <td> CLT     </td>\n",
        "      <td> 3</td>\n",
        "    </tr>\n",
        "    <tr>\n",
        "      <th>3</th>\n",
        "      <td> 2013-03-26 00:00:00</td>\n",
        "      <td> 2013-03-26 00:00:00</td>\n",
        "      <td> AKL     </td>\n",
        "      <td> SVO     </td>\n",
        "      <td> 3</td>\n",
        "    </tr>\n",
        "    <tr>\n",
        "      <th>4</th>\n",
        "      <td> 2013-03-26 00:00:00</td>\n",
        "      <td> 2013-03-26 00:00:00</td>\n",
        "      <td> AKL     </td>\n",
        "      <td> SVO     </td>\n",
        "      <td> 3</td>\n",
        "    </tr>\n",
        "  </tbody>\n",
        "</table>\n",
        "<p>5 rows \u00d7 5 columns</p>\n",
        "</div>"
       ],
       "metadata": {},
       "output_type": "pyout",
       "prompt_number": 9,
       "text": [
        "   act_date             cre_date             dep_port  arr_port  month\n",
        "0  2013-03-05 00:00:00  2013-02-22 00:00:00  ZRH       LHR           3\n",
        "1  2013-03-26 00:00:00  2013-03-26 00:00:00  SAL       CLT           3\n",
        "2  2013-03-26 00:00:00  2013-03-26 00:00:00  SAL       CLT           3\n",
        "3  2013-03-26 00:00:00  2013-03-26 00:00:00  AKL       SVO           3\n",
        "4  2013-03-26 00:00:00  2013-03-26 00:00:00  AKL       SVO           3\n",
        "\n",
        "[5 rows x 5 columns]"
       ]
      }
     ],
     "prompt_number": 9
    },
    {
     "cell_type": "code",
     "collapsed": false,
     "input": [
      "Bookings.tail()"
     ],
     "language": "python",
     "metadata": {},
     "outputs": [
      {
       "html": [
        "<div style=\"max-height:1000px;max-width:1500px;overflow:auto;\">\n",
        "<table border=\"1\" class=\"dataframe\">\n",
        "  <thead>\n",
        "    <tr style=\"text-align: right;\">\n",
        "      <th></th>\n",
        "      <th>act_date           </th>\n",
        "      <th>cre_date           </th>\n",
        "      <th>dep_port</th>\n",
        "      <th>arr_port</th>\n",
        "      <th>month</th>\n",
        "    </tr>\n",
        "  </thead>\n",
        "  <tbody>\n",
        "    <tr>\n",
        "      <th>10000005</th>\n",
        "      <td> 2013-05-18 00:00:00</td>\n",
        "      <td> 2013-05-14 00:00:00</td>\n",
        "      <td> CMB     </td>\n",
        "      <td> MAA     </td>\n",
        "      <td> 5</td>\n",
        "    </tr>\n",
        "    <tr>\n",
        "      <th>10000006</th>\n",
        "      <td> 2013-05-18 00:00:00</td>\n",
        "      <td> 2013-05-14 00:00:00</td>\n",
        "      <td> CMB     </td>\n",
        "      <td> MAA     </td>\n",
        "      <td> 5</td>\n",
        "    </tr>\n",
        "    <tr>\n",
        "      <th>10000007</th>\n",
        "      <td> 2013-05-28 00:00:00</td>\n",
        "      <td> 2013-05-28 00:00:00</td>\n",
        "      <td> AUS     </td>\n",
        "      <td> RDU     </td>\n",
        "      <td> 5</td>\n",
        "    </tr>\n",
        "    <tr>\n",
        "      <th>10000008</th>\n",
        "      <td> 2013-05-28 00:00:00</td>\n",
        "      <td> 2013-05-28 00:00:00</td>\n",
        "      <td> TLS     </td>\n",
        "      <td> ORY     </td>\n",
        "      <td> 5</td>\n",
        "    </tr>\n",
        "    <tr>\n",
        "      <th>10000009</th>\n",
        "      <td> 2013-05-28 00:00:00</td>\n",
        "      <td> 2013-05-28 00:00:00</td>\n",
        "      <td> TLS     </td>\n",
        "      <td> ORY     </td>\n",
        "      <td> 5</td>\n",
        "    </tr>\n",
        "  </tbody>\n",
        "</table>\n",
        "<p>5 rows \u00d7 5 columns</p>\n",
        "</div>"
       ],
       "metadata": {},
       "output_type": "pyout",
       "prompt_number": 10,
       "text": [
        "          act_date             cre_date             dep_port  arr_port  month\n",
        "10000005  2013-05-18 00:00:00  2013-05-14 00:00:00  CMB       MAA           5\n",
        "10000006  2013-05-18 00:00:00  2013-05-14 00:00:00  CMB       MAA           5\n",
        "10000007  2013-05-28 00:00:00  2013-05-28 00:00:00  AUS       RDU           5\n",
        "10000008  2013-05-28 00:00:00  2013-05-28 00:00:00  TLS       ORY           5\n",
        "10000009  2013-05-28 00:00:00  2013-05-28 00:00:00  TLS       ORY           5\n",
        "\n",
        "[5 rows x 5 columns]"
       ]
      }
     ],
     "prompt_number": 10
    },
    {
     "cell_type": "code",
     "collapsed": false,
     "input": [],
     "language": "python",
     "metadata": {},
     "outputs": []
    }
   ],
   "metadata": {}
  }
 ]
}