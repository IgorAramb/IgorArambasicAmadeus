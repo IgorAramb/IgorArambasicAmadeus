{
 "metadata": {
  "name": "",
  "signature": "sha256:4c082bd11486b7c5c129295112a200a70a5f1ca08e7bfe5fd951d1bb194aa203"
 },
 "nbformat": 3,
 "nbformat_minor": 0,
 "worksheets": [
  {
   "cells": [
    {
     "cell_type": "heading",
     "level": 1,
     "metadata": {},
     "source": [
      "Count the number of lines"
     ]
    },
    {
     "cell_type": "code",
     "collapsed": false,
     "input": [
      "FileName='C:/Users/Igor/Documents/GitHub/IgorArambasicAmadeus/FirstContact.ipynb'"
     ],
     "language": "python",
     "metadata": {},
     "outputs": [],
     "prompt_number": 11
    },
    {
     "cell_type": "code",
     "collapsed": false,
     "input": [
      "try:\n",
      "    with open(FileName, \"r\") as  file_input:\n",
      "        k=0\n",
      "        for line in file_input:\n",
      "            k+=1\n",
      "        print \"%s has %s lines.\"%(FileName,k)\n",
      "except IOError:\n",
      "    print \"Error! File %s did not open!\" %(FileName)"
     ],
     "language": "python",
     "metadata": {},
     "outputs": [
      {
       "output_type": "stream",
       "stream": "stdout",
       "text": [
        "C:/Users/Igor/Documents/GitHub/IgorArambasicAmadeus/FirstContact.ipynb has 84 lines.\n"
       ]
      }
     ],
     "prompt_number": 12
    },
    {
     "cell_type": "code",
     "collapsed": false,
     "input": [],
     "language": "python",
     "metadata": {},
     "outputs": []
    }
   ],
   "metadata": {}
  }
 ]
}