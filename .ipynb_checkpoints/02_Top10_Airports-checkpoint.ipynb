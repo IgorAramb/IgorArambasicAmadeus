{
 "metadata": {
  "name": "",
  "signature": "sha256:8f50e1f944c01acffd751c57228739db0831fa06eb2521f7341f837de78afc36"
 },
 "nbformat": 3,
 "nbformat_minor": 0,
 "worksheets": [
  {
   "cells": [
    {
     "cell_type": "heading",
     "level": 1,
     "metadata": {},
     "source": [
      "Top 10 Arrival Airports in 2013"
     ]
    },
    {
     "cell_type": "code",
     "collapsed": false,
     "input": [
      "import pandas as pd\n",
      "import numpy as np\n",
      "import matplotlib.pyplot as plt"
     ],
     "language": "python",
     "metadata": {},
     "outputs": [],
     "prompt_number": 1
    },
    {
     "cell_type": "code",
     "collapsed": false,
     "input": [
      "BookFile='../Data/bookings.csv'\n",
      "SearchFile='../Data/searches.csv'"
     ],
     "language": "python",
     "metadata": {},
     "outputs": [],
     "prompt_number": 2
    },
    {
     "cell_type": "code",
     "collapsed": false,
     "input": [
      "#book_csv = pd.read_csv(BookFile, sep='^')\n",
      "#search_csv = pd.read_table(SearchFile)\n",
      "######## too slow\n",
      "\n",
      "\n",
      "ReaderBookings = pd.read_csv(BookFile, sep='^', iterator=True)\n",
      "X=ReaderBookings.get_chunk(5)\n",
      "X.info()"
     ],
     "language": "python",
     "metadata": {},
     "outputs": [
      {
       "output_type": "stream",
       "stream": "stdout",
       "text": [
        "<class 'pandas.core.frame.DataFrame'>\n",
        "Int64Index: 5 entries, 0 to 4\n",
        "Data columns (total 38 columns):\n",
        "act_date               5 non-null object\n",
        "source                 5 non-null object\n",
        "pos_ctry               5 non-null object\n",
        "pos_iata               5 non-null object\n",
        "pos_oid                5 non-null object\n",
        "rloc                   5 non-null object\n",
        "cre_date               5 non-null object\n",
        "duration               5 non-null int64\n",
        "distance               5 non-null int64\n",
        "dep_port               5 non-null object\n",
        "dep_city               5 non-null object\n",
        "dep_ctry               5 non-null object\n",
        "arr_port               5 non-null object\n",
        "arr_city               5 non-null object\n",
        "arr_ctry               5 non-null object\n",
        "lst_port               5 non-null object\n",
        "lst_city               5 non-null object\n",
        "lst_ctry               5 non-null object\n",
        "brd_port               5 non-null object\n",
        "brd_city               5 non-null object\n",
        "brd_ctry               5 non-null object\n",
        "off_port               5 non-null object\n",
        "off_city               5 non-null object\n",
        "off_ctry               5 non-null object\n",
        "mkt_port               5 non-null object\n",
        "mkt_city               5 non-null object\n",
        "mkt_ctry               5 non-null object\n",
        "intl                   5 non-null int64\n",
        "route                  5 non-null object\n",
        "carrier                5 non-null object\n",
        "bkg_class              5 non-null object\n",
        "cab_class              5 non-null object\n",
        "brd_time               5 non-null object\n",
        "off_time               5 non-null object\n",
        "pax                    5 non-null int64\n",
        "year                   5 non-null int64\n",
        "month                  5 non-null int64\n",
        "oid                    5 non-null object\n",
        "dtypes: int64(6), object(32)"
       ]
      }
     ],
     "prompt_number": 3
    },
    {
     "cell_type": "code",
     "collapsed": false,
     "input": [
      "X.columns\n"
     ],
     "language": "python",
     "metadata": {},
     "outputs": [
      {
       "metadata": {},
       "output_type": "pyout",
       "prompt_number": 4,
       "text": [
        "Index([u'act_date           ', u'source', u'pos_ctry', u'pos_iata', u'pos_oid  ', u'rloc          ', u'cre_date           ', u'duration', u'distance', u'dep_port', u'dep_city', u'dep_ctry', u'arr_port', u'arr_city', u'arr_ctry', u'lst_port', u'lst_city', u'lst_ctry', u'brd_port', u'brd_city', u'brd_ctry', u'off_port', u'off_city', u'off_ctry', u'mkt_port', u'mkt_city', u'mkt_ctry', u'intl', u'route          ', u'carrier', u'bkg_class', u'cab_class', u'brd_time           ', u'off_time           ', u'pax', u'year', u'month', u'oid      '], dtype='object')"
       ]
      }
     ],
     "prompt_number": 4
    },
    {
     "cell_type": "code",
     "collapsed": false,
     "input": [
      "BookingsAll = pd.read_csv(BookFile, sep='^', usecols=['arr_port','pax', 'year', 'month'])\n",
      "BookingsAll[:5]"
     ],
     "language": "python",
     "metadata": {},
     "outputs": [],
     "prompt_number": 5
    },
    {
     "cell_type": "code",
     "collapsed": false,
     "input": [],
     "language": "python",
     "metadata": {},
     "outputs": []
    }
   ],
   "metadata": {}
  }
 ]
}