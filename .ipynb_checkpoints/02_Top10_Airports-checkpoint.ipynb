{
 "metadata": {
  "name": "",
  "signature": "sha256:1379abd3845a7cdbf39243252a23819b4358f0030f94b9056144d8d2e530d630"
 },
 "nbformat": 3,
 "nbformat_minor": 0,
 "worksheets": [
  {
   "cells": [
    {
     "cell_type": "heading",
     "level": 1,
     "metadata": {},
     "source": [
      "Top 10 Arrival Airports in 2013"
     ]
    },
    {
     "cell_type": "code",
     "collapsed": false,
     "input": [
      "import pandas as pd\n",
      "import numpy as np"
     ],
     "language": "python",
     "metadata": {},
     "outputs": [],
     "prompt_number": 12
    },
    {
     "cell_type": "code",
     "collapsed": false,
     "input": [
      "BookFile='../Data/bookings.csv'\n",
      "SearchFile='../Data/searches.csv'"
     ],
     "language": "python",
     "metadata": {},
     "outputs": [],
     "prompt_number": 2
    },
    {
     "cell_type": "code",
     "collapsed": false,
     "input": [
      "#book_csv = pd.read_csv(BookFile, sep='^')\n",
      "#search_csv = pd.read_table(SearchFile)\n",
      "######## too slow\n",
      "\n",
      "\n",
      "ReaderBookings = pd.read_csv(BookFile, sep='^', iterator=True)\n",
      "X=ReaderBookings.get_chunk(5)\n",
      "X.info()"
     ],
     "language": "python",
     "metadata": {},
     "outputs": [
      {
       "output_type": "stream",
       "stream": "stdout",
       "text": [
        "<class 'pandas.core.frame.DataFrame'>\n",
        "Int64Index: 5 entries, 0 to 4\n",
        "Data columns (total 38 columns):\n",
        "act_date               5 non-null object\n",
        "source                 5 non-null object\n",
        "pos_ctry               5 non-null object\n",
        "pos_iata               5 non-null object\n",
        "pos_oid                5 non-null object\n",
        "rloc                   5 non-null object\n",
        "cre_date               5 non-null object\n",
        "duration               5 non-null int64\n",
        "distance               5 non-null int64\n",
        "dep_port               5 non-null object\n",
        "dep_city               5 non-null object\n",
        "dep_ctry               5 non-null object\n",
        "arr_port               5 non-null object\n",
        "arr_city               5 non-null object\n",
        "arr_ctry               5 non-null object\n",
        "lst_port               5 non-null object\n",
        "lst_city               5 non-null object\n",
        "lst_ctry               5 non-null object\n",
        "brd_port               5 non-null object\n",
        "brd_city               5 non-null object\n",
        "brd_ctry               5 non-null object\n",
        "off_port               5 non-null object\n",
        "off_city               5 non-null object\n",
        "off_ctry               5 non-null object\n",
        "mkt_port               5 non-null object\n",
        "mkt_city               5 non-null object\n",
        "mkt_ctry               5 non-null object\n",
        "intl                   5 non-null int64\n",
        "route                  5 non-null object\n",
        "carrier                5 non-null object\n",
        "bkg_class              5 non-null object\n",
        "cab_class              5 non-null object\n",
        "brd_time               5 non-null object\n",
        "off_time               5 non-null object\n",
        "pax                    5 non-null int64\n",
        "year                   5 non-null int64\n",
        "month                  5 non-null int64\n",
        "oid                    5 non-null object\n",
        "dtypes: int64(6), object(32)"
       ]
      }
     ],
     "prompt_number": 3
    },
    {
     "cell_type": "code",
     "collapsed": false,
     "input": [
      "X.columns\n"
     ],
     "language": "python",
     "metadata": {},
     "outputs": [
      {
       "metadata": {},
       "output_type": "pyout",
       "prompt_number": 4,
       "text": [
        "Index([u'act_date           ', u'source', u'pos_ctry', u'pos_iata', u'pos_oid  ', u'rloc          ', u'cre_date           ', u'duration', u'distance', u'dep_port', u'dep_city', u'dep_ctry', u'arr_port', u'arr_city', u'arr_ctry', u'lst_port', u'lst_city', u'lst_ctry', u'brd_port', u'brd_city', u'brd_ctry', u'off_port', u'off_city', u'off_ctry', u'mkt_port', u'mkt_city', u'mkt_ctry', u'intl', u'route          ', u'carrier', u'bkg_class', u'cab_class', u'brd_time           ', u'off_time           ', u'pax', u'year', u'month', u'oid      '], dtype='object')"
       ]
      }
     ],
     "prompt_number": 4
    },
    {
     "cell_type": "code",
     "collapsed": false,
     "input": [
      "BookingsAll = pd.read_csv(BookFile, sep='^', usecols=['arr_port','pax', 'year'])\n",
      "#BookingsAll[:5]"
     ],
     "language": "python",
     "metadata": {},
     "outputs": [
      {
       "html": [
        "<div style=\"max-height:1000px;max-width:1500px;overflow:auto;\">\n",
        "<table border=\"1\" class=\"dataframe\">\n",
        "  <thead>\n",
        "    <tr style=\"text-align: right;\">\n",
        "      <th></th>\n",
        "      <th>arr_port</th>\n",
        "      <th>pax</th>\n",
        "      <th>year</th>\n",
        "    </tr>\n",
        "  </thead>\n",
        "  <tbody>\n",
        "    <tr>\n",
        "      <th>0</th>\n",
        "      <td> LHR     </td>\n",
        "      <td>-1</td>\n",
        "      <td> 2013</td>\n",
        "    </tr>\n",
        "    <tr>\n",
        "      <th>1</th>\n",
        "      <td> CLT     </td>\n",
        "      <td> 1</td>\n",
        "      <td> 2013</td>\n",
        "    </tr>\n",
        "    <tr>\n",
        "      <th>2</th>\n",
        "      <td> CLT     </td>\n",
        "      <td> 1</td>\n",
        "      <td> 2013</td>\n",
        "    </tr>\n",
        "    <tr>\n",
        "      <th>3</th>\n",
        "      <td> SVO     </td>\n",
        "      <td> 1</td>\n",
        "      <td> 2013</td>\n",
        "    </tr>\n",
        "    <tr>\n",
        "      <th>4</th>\n",
        "      <td> SVO     </td>\n",
        "      <td> 1</td>\n",
        "      <td> 2013</td>\n",
        "    </tr>\n",
        "  </tbody>\n",
        "</table>\n",
        "<p>5 rows \u00d7 3 columns</p>\n",
        "</div>"
       ],
       "metadata": {},
       "output_type": "pyout",
       "prompt_number": 26,
       "text": [
        "   arr_port  pax  year\n",
        "0  LHR        -1  2013\n",
        "1  CLT         1  2013\n",
        "2  CLT         1  2013\n",
        "3  SVO         1  2013\n",
        "4  SVO         1  2013\n",
        "\n",
        "[5 rows x 3 columns]"
       ]
      }
     ],
     "prompt_number": 26
    },
    {
     "cell_type": "code",
     "collapsed": false,
     "input": [
      "by_Airport2013 = BookingsAll.groupby(['arr_port', 'year']) #data should be from 2013 and not NaN or any other year\n",
      "TopAirport=by_Airport2013.sum()"
     ],
     "language": "python",
     "metadata": {},
     "outputs": [],
     "prompt_number": 42
    },
    {
     "cell_type": "code",
     "collapsed": false,
     "input": [
      "TopAirport = TopAirport.sort('pax', ascending=0)\n"
     ],
     "language": "python",
     "metadata": {},
     "outputs": [],
     "prompt_number": 45
    },
    {
     "cell_type": "code",
     "collapsed": false,
     "input": [
      "TopAirport[:10]"
     ],
     "language": "python",
     "metadata": {},
     "outputs": [
      {
       "html": [
        "<div style=\"max-height:1000px;max-width:1500px;overflow:auto;\">\n",
        "<table border=\"1\" class=\"dataframe\">\n",
        "  <thead>\n",
        "    <tr style=\"text-align: right;\">\n",
        "      <th></th>\n",
        "      <th></th>\n",
        "      <th>pax</th>\n",
        "    </tr>\n",
        "    <tr>\n",
        "      <th>arr_port</th>\n",
        "      <th>year</th>\n",
        "      <th></th>\n",
        "    </tr>\n",
        "  </thead>\n",
        "  <tbody>\n",
        "    <tr>\n",
        "      <th>LHR     </th>\n",
        "      <th>2013</th>\n",
        "      <td> 88809</td>\n",
        "    </tr>\n",
        "    <tr>\n",
        "      <th>MCO     </th>\n",
        "      <th>2013</th>\n",
        "      <td> 70930</td>\n",
        "    </tr>\n",
        "    <tr>\n",
        "      <th>LAX     </th>\n",
        "      <th>2013</th>\n",
        "      <td> 70530</td>\n",
        "    </tr>\n",
        "    <tr>\n",
        "      <th>LAS     </th>\n",
        "      <th>2013</th>\n",
        "      <td> 69630</td>\n",
        "    </tr>\n",
        "    <tr>\n",
        "      <th>JFK     </th>\n",
        "      <th>2013</th>\n",
        "      <td> 66270</td>\n",
        "    </tr>\n",
        "    <tr>\n",
        "      <th>CDG     </th>\n",
        "      <th>2013</th>\n",
        "      <td> 64490</td>\n",
        "    </tr>\n",
        "    <tr>\n",
        "      <th>BKK     </th>\n",
        "      <th>2013</th>\n",
        "      <td> 59460</td>\n",
        "    </tr>\n",
        "    <tr>\n",
        "      <th>MIA     </th>\n",
        "      <th>2013</th>\n",
        "      <td> 58150</td>\n",
        "    </tr>\n",
        "    <tr>\n",
        "      <th>SFO     </th>\n",
        "      <th>2013</th>\n",
        "      <td> 58000</td>\n",
        "    </tr>\n",
        "    <tr>\n",
        "      <th>DXB     </th>\n",
        "      <th>2013</th>\n",
        "      <td> 55590</td>\n",
        "    </tr>\n",
        "  </tbody>\n",
        "</table>\n",
        "<p>10 rows \u00d7 1 columns</p>\n",
        "</div>"
       ],
       "metadata": {},
       "output_type": "pyout",
       "prompt_number": 47,
       "text": [
        "                 pax\n",
        "arr_port year       \n",
        "LHR      2013  88809\n",
        "MCO      2013  70930\n",
        "LAX      2013  70530\n",
        "LAS      2013  69630\n",
        "JFK      2013  66270\n",
        "CDG      2013  64490\n",
        "BKK      2013  59460\n",
        "MIA      2013  58150\n",
        "SFO      2013  58000\n",
        "DXB      2013  55590\n",
        "\n",
        "[10 rows x 1 columns]"
       ]
      }
     ],
     "prompt_number": 47
    },
    {
     "cell_type": "code",
     "collapsed": false,
     "input": [],
     "language": "python",
     "metadata": {},
     "outputs": []
    }
   ],
   "metadata": {}
  }
 ]
}