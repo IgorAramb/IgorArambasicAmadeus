{
 "metadata": {
  "name": "",
  "signature": "sha256:a8140bc7f76c7b9d2f9a36f6692d43a6fb7c08bec961ddf3739e30ca2e6032b7"
 },
 "nbformat": 3,
 "nbformat_minor": 0,
 "worksheets": [
  {
   "cells": [
    {
     "cell_type": "heading",
     "level": 1,
     "metadata": {},
     "source": [
      "Top 10 Arrival Airports in 2013"
     ]
    },
    {
     "cell_type": "code",
     "collapsed": false,
     "input": [
      "import pandas as pd\n",
      "import numpy as np"
     ],
     "language": "python",
     "metadata": {},
     "outputs": [],
     "prompt_number": 1
    },
    {
     "cell_type": "code",
     "collapsed": false,
     "input": [
      "BookFile='../Data/bookings.csv'\n",
      "SearchFile='../Data/searches.csv'"
     ],
     "language": "python",
     "metadata": {},
     "outputs": [],
     "prompt_number": 2
    },
    {
     "cell_type": "markdown",
     "metadata": {},
     "source": [
      "I have tried reading the entire file with pd.read_csv() and pd.read_table() but reading lasted for ever and the system run out of memory "
     ]
    },
    {
     "cell_type": "code",
     "collapsed": false,
     "input": [
      "ReaderBookings = pd.read_csv(BookFile, sep='^', iterator=True)\n",
      "X=ReaderBookings.get_chunk(5)\n",
      "X.info()"
     ],
     "language": "python",
     "metadata": {},
     "outputs": [
      {
       "output_type": "stream",
       "stream": "stdout",
       "text": [
        "<class 'pandas.core.frame.DataFrame'>\n",
        "Int64Index: 5 entries, 0 to 4\n",
        "Data columns (total 38 columns):\n",
        "act_date               5 non-null object\n",
        "source                 5 non-null object\n",
        "pos_ctry               5 non-null object\n",
        "pos_iata               5 non-null object\n",
        "pos_oid                5 non-null object\n",
        "rloc                   5 non-null object\n",
        "cre_date               5 non-null object\n",
        "duration               5 non-null int64\n",
        "distance               5 non-null int64\n",
        "dep_port               5 non-null object\n",
        "dep_city               5 non-null object\n",
        "dep_ctry               5 non-null object\n",
        "arr_port               5 non-null object\n",
        "arr_city               5 non-null object\n",
        "arr_ctry               5 non-null object\n",
        "lst_port               5 non-null object\n",
        "lst_city               5 non-null object\n",
        "lst_ctry               5 non-null object\n",
        "brd_port               5 non-null object\n",
        "brd_city               5 non-null object\n",
        "brd_ctry               5 non-null object\n",
        "off_port               5 non-null object\n",
        "off_city               5 non-null object\n",
        "off_ctry               5 non-null object\n",
        "mkt_port               5 non-null object\n",
        "mkt_city               5 non-null object\n",
        "mkt_ctry               5 non-null object\n",
        "intl                   5 non-null int64\n",
        "route                  5 non-null object\n",
        "carrier                5 non-null object\n",
        "bkg_class              5 non-null object\n",
        "cab_class              5 non-null object\n",
        "brd_time               5 non-null object\n",
        "off_time               5 non-null object\n",
        "pax                    5 non-null int64\n",
        "year                   5 non-null int64\n",
        "month                  5 non-null int64\n",
        "oid                    5 non-null object\n",
        "dtypes: int64(6), object(32)"
       ]
      }
     ],
     "prompt_number": 3
    },
    {
     "cell_type": "code",
     "collapsed": false,
     "input": [
      "X.columns\n"
     ],
     "language": "python",
     "metadata": {},
     "outputs": [
      {
       "metadata": {},
       "output_type": "pyout",
       "prompt_number": 4,
       "text": [
        "Index([u'act_date           ', u'source', u'pos_ctry', u'pos_iata', u'pos_oid  ', u'rloc          ', u'cre_date           ', u'duration', u'distance', u'dep_port', u'dep_city', u'dep_ctry', u'arr_port', u'arr_city', u'arr_ctry', u'lst_port', u'lst_city', u'lst_ctry', u'brd_port', u'brd_city', u'brd_ctry', u'off_port', u'off_city', u'off_ctry', u'mkt_port', u'mkt_city', u'mkt_ctry', u'intl', u'route          ', u'carrier', u'bkg_class', u'cab_class', u'brd_time           ', u'off_time           ', u'pax', u'year', u'month', u'oid      '], dtype='object')"
       ]
      }
     ],
     "prompt_number": 4
    },
    {
     "cell_type": "markdown",
     "metadata": {},
     "source": [
      "After locating the columns of interest and the separator type, the entire file was read for only 3 columns"
     ]
    },
    {
     "cell_type": "code",
     "collapsed": false,
     "input": [
      "BookingsAll = pd.read_csv(BookFile, sep='^', usecols=['arr_port','pax', 'year'])\n",
      "#BookingsAll[:5]"
     ],
     "language": "python",
     "metadata": {},
     "outputs": [],
     "prompt_number": 16
    },
    {
     "cell_type": "markdown",
     "metadata": {},
     "source": [
      "Remove NaN"
     ]
    },
    {
     "cell_type": "code",
     "collapsed": false,
     "input": [
      "BookingsAll=BookingsAll.dropna()"
     ],
     "language": "python",
     "metadata": {},
     "outputs": [],
     "prompt_number": 17
    },
    {
     "cell_type": "markdown",
     "metadata": {},
     "source": [
      "Year is always 2013, so this column can also be deleted"
     ]
    },
    {
     "cell_type": "code",
     "collapsed": false,
     "input": [
      "BookingsAll = BookingsAll.drop('year',1)"
     ],
     "language": "python",
     "metadata": {},
     "outputs": [],
     "prompt_number": 19
    },
    {
     "cell_type": "markdown",
     "metadata": {},
     "source": [
      "Group by Airport, sum the passengers, and sort the result"
     ]
    },
    {
     "cell_type": "code",
     "collapsed": false,
     "input": [
      "BookingsAll = BookingsAll.groupby(['arr_port'])\n",
      "TopAirport=BookingsAll.sum()\n",
      "TopAirport = TopAirport.sort('pax', ascending=0)"
     ],
     "language": "python",
     "metadata": {},
     "outputs": [],
     "prompt_number": 22
    },
    {
     "cell_type": "code",
     "collapsed": false,
     "input": [
      "TopAirport[:10]"
     ],
     "language": "python",
     "metadata": {},
     "outputs": [
      {
       "html": [
        "<div style=\"max-height:1000px;max-width:1500px;overflow:auto;\">\n",
        "<table border=\"1\" class=\"dataframe\">\n",
        "  <thead>\n",
        "    <tr style=\"text-align: right;\">\n",
        "      <th></th>\n",
        "      <th>pax</th>\n",
        "    </tr>\n",
        "    <tr>\n",
        "      <th>arr_port</th>\n",
        "      <th></th>\n",
        "    </tr>\n",
        "  </thead>\n",
        "  <tbody>\n",
        "    <tr>\n",
        "      <th>LHR     </th>\n",
        "      <td> 88809</td>\n",
        "    </tr>\n",
        "    <tr>\n",
        "      <th>MCO     </th>\n",
        "      <td> 70930</td>\n",
        "    </tr>\n",
        "    <tr>\n",
        "      <th>LAX     </th>\n",
        "      <td> 70530</td>\n",
        "    </tr>\n",
        "    <tr>\n",
        "      <th>LAS     </th>\n",
        "      <td> 69630</td>\n",
        "    </tr>\n",
        "    <tr>\n",
        "      <th>JFK     </th>\n",
        "      <td> 66270</td>\n",
        "    </tr>\n",
        "    <tr>\n",
        "      <th>CDG     </th>\n",
        "      <td> 64490</td>\n",
        "    </tr>\n",
        "    <tr>\n",
        "      <th>BKK     </th>\n",
        "      <td> 59460</td>\n",
        "    </tr>\n",
        "    <tr>\n",
        "      <th>MIA     </th>\n",
        "      <td> 58150</td>\n",
        "    </tr>\n",
        "    <tr>\n",
        "      <th>SFO     </th>\n",
        "      <td> 58000</td>\n",
        "    </tr>\n",
        "    <tr>\n",
        "      <th>DXB     </th>\n",
        "      <td> 55590</td>\n",
        "    </tr>\n",
        "  </tbody>\n",
        "</table>\n",
        "<p>10 rows \u00d7 1 columns</p>\n",
        "</div>"
       ],
       "metadata": {},
       "output_type": "pyout",
       "prompt_number": 23,
       "text": [
        "            pax\n",
        "arr_port       \n",
        "LHR       88809\n",
        "MCO       70930\n",
        "LAX       70530\n",
        "LAS       69630\n",
        "JFK       66270\n",
        "CDG       64490\n",
        "BKK       59460\n",
        "MIA       58150\n",
        "SFO       58000\n",
        "DXB       55590\n",
        "\n",
        "[10 rows x 1 columns]"
       ]
      }
     ],
     "prompt_number": 23
    },
    {
     "cell_type": "markdown",
     "metadata": {},
     "source": [
      "Top 10 airports and the corresponding number of Passengers"
     ]
    },
    {
     "cell_type": "code",
     "collapsed": false,
     "input": [
      "TopAirport[:10]"
     ],
     "language": "python",
     "metadata": {},
     "outputs": [
      {
       "html": [
        "<div style=\"max-height:1000px;max-width:1500px;overflow:auto;\">\n",
        "<table border=\"1\" class=\"dataframe\">\n",
        "  <thead>\n",
        "    <tr style=\"text-align: right;\">\n",
        "      <th></th>\n",
        "      <th></th>\n",
        "      <th>pax</th>\n",
        "    </tr>\n",
        "    <tr>\n",
        "      <th>arr_port</th>\n",
        "      <th>year</th>\n",
        "      <th></th>\n",
        "    </tr>\n",
        "  </thead>\n",
        "  <tbody>\n",
        "    <tr>\n",
        "      <th>LHR     </th>\n",
        "      <th>2013</th>\n",
        "      <td> 88809</td>\n",
        "    </tr>\n",
        "    <tr>\n",
        "      <th>MCO     </th>\n",
        "      <th>2013</th>\n",
        "      <td> 70930</td>\n",
        "    </tr>\n",
        "    <tr>\n",
        "      <th>LAX     </th>\n",
        "      <th>2013</th>\n",
        "      <td> 70530</td>\n",
        "    </tr>\n",
        "    <tr>\n",
        "      <th>LAS     </th>\n",
        "      <th>2013</th>\n",
        "      <td> 69630</td>\n",
        "    </tr>\n",
        "    <tr>\n",
        "      <th>JFK     </th>\n",
        "      <th>2013</th>\n",
        "      <td> 66270</td>\n",
        "    </tr>\n",
        "    <tr>\n",
        "      <th>CDG     </th>\n",
        "      <th>2013</th>\n",
        "      <td> 64490</td>\n",
        "    </tr>\n",
        "    <tr>\n",
        "      <th>BKK     </th>\n",
        "      <th>2013</th>\n",
        "      <td> 59460</td>\n",
        "    </tr>\n",
        "    <tr>\n",
        "      <th>MIA     </th>\n",
        "      <th>2013</th>\n",
        "      <td> 58150</td>\n",
        "    </tr>\n",
        "    <tr>\n",
        "      <th>SFO     </th>\n",
        "      <th>2013</th>\n",
        "      <td> 58000</td>\n",
        "    </tr>\n",
        "    <tr>\n",
        "      <th>DXB     </th>\n",
        "      <th>2013</th>\n",
        "      <td> 55590</td>\n",
        "    </tr>\n",
        "  </tbody>\n",
        "</table>\n",
        "<p>10 rows \u00d7 1 columns</p>\n",
        "</div>"
       ],
       "metadata": {},
       "output_type": "pyout",
       "prompt_number": 47,
       "text": [
        "                 pax\n",
        "arr_port year       \n",
        "LHR      2013  88809\n",
        "MCO      2013  70930\n",
        "LAX      2013  70530\n",
        "LAS      2013  69630\n",
        "JFK      2013  66270\n",
        "CDG      2013  64490\n",
        "BKK      2013  59460\n",
        "MIA      2013  58150\n",
        "SFO      2013  58000\n",
        "DXB      2013  55590\n",
        "\n",
        "[10 rows x 1 columns]"
       ]
      }
     ],
     "prompt_number": 47
    }
   ],
   "metadata": {}
  }
 ]
}